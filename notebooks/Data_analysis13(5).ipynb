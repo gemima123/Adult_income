{
  "cells": [
    {
      "cell_type": "markdown",
      "source": [
        "# UCI Adult Income Dataset - Exploratory and Descriptive Analysis\n",
        "\n",
        "In this notebook, we carry out an in-depth exploratory and descriptive analysis of the UCI Adult Income Dataset, a widely used dataset for income prediction tasks based on individual demographic and employment attributes.\n",
        "\n",
        "This phase of analysis is essential for uncovering patterns, detecting potential biases, and gaining intuition about the dataset’s structure before applying any modelling procedures. We examine the distribution of key numerical and categorical variables, investigate relationships between demographic features and income levels, and use visualizations to summarize insights. Particular focus is placed on income disparities across **age groups**, **geographical regions**, **races**, and **education-occupation combinations**, helping lay a solid foundation for downstream modeling and policy-relevant interpretation.\n",
        "\n",
        "\n",
        "\n",
        "We begin our analysis by importing the core Python libraries required for **data handling**, **numerical computation**, **visualization**, and **directory management**:\n",
        "\n",
        "- `pandas`: Enables efficient manipulation, filtering, and aggregation of structured tabular data, forming the backbone of our analysis pipeline.\n",
        "\n",
        "- `numpy`: Provides support for fast numerical operations, array-based computation, and statistical routines.\n",
        "\n",
        "- `os`: Facilitates interaction with the file system, allowing us to construct flexible and portable directory paths for data and output management.\n",
        "\n",
        "- `plotly.express`: A high-level graphing library that enables the creation of interactive, publication-quality visualizations, which we use extensively to uncover patterns and present insights throughout the notebook.\n",
        "\n"
      ],
      "metadata": {
        "id": "scy82l5nUW86"
      }
    },
    {
      "cell_type": "code",
      "execution_count": null,
      "metadata": {
        "id": "q9EOZfNnndWo"
      },
      "outputs": [],
      "source": [
        "import os\n",
        "import pandas as pd\n",
        "import numpy as np\n",
        "import plotly.express as px\n",
        "import plotly.io as pio"
      ]
    },
    {
      "cell_type": "markdown",
      "source": [
        "## Define and Create Directory Paths\n",
        "\n",
        "To ensure reproducibility and organized storage, we programmatically create directories if they don't already exist for:\n",
        "\n",
        "- **raw data**\n",
        "- **processed data**\n",
        "- **results**\n",
        "- **documentation**\n",
        "  \n",
        "These directories will store intermediate and final outputs for reproducibility.\n"
      ],
      "metadata": {
        "id": "3gg2wt-yUho-"
      }
    },
    {
      "cell_type": "code",
      "execution_count": null,
      "metadata": {
        "id": "Z5_bmqY4odzq"
      },
      "outputs": [],
      "source": [
        "# define and create paths\n",
        "# get working directory\n",
        "project_root_dir = os.getcwd()\n",
        "#define paths to the data folders\n",
        "data_dir = os.path.join(project_root_dir,'data')\n",
        "raw_dir = os.path.join(data_dir,'raw')\n",
        "processed_dir = os.path.join(data_dir,'processed')\n",
        "# define paths to docs folder\n",
        "docs_dir = os.path.join(project_root_dir,'docs')\n",
        "# define paths to result folder\n",
        "result_dir = os.path.join(project_root_dir,'results')\n",
        "# create directories if they do not exist\n",
        "os.makedirs(raw_dir,exist_ok=True)\n",
        "os.makedirs(processed_dir,exist_ok=True)\n",
        "os.makedirs(docs_dir,exist_ok=True)\n",
        "os.makedirs(result_dir,exist_ok=True)\n"
      ]
    },
    {
      "cell_type": "code",
      "execution_count": null,
      "metadata": {
        "id": "bi7aVpuVsh4b"
      },
      "outputs": [],
      "source": [
        "#from google.colab import files\n",
        "#uploaded = files.upload()"
      ]
    },
    {
      "cell_type": "code",
      "execution_count": null,
      "metadata": {
        "id": "-bBvTQmotKpm"
      },
      "outputs": [],
      "source": [
        "#!mv adult.csv data/processed/"
      ]
    },
    {
      "cell_type": "markdown",
      "source": [
        "## Loading the Cleaned Dataset\n",
        "\n",
        "We load the cleaned version of the UCI Adult Income Dataset from the processed data directory into a Pandas DataFrame. The `head(10)` function shows the first ten records, giving a glimpse into the data columns such as `age`, `workclass`, `education_num`, etc.\n"
      ],
      "metadata": {
        "id": "PeuskAXaUp7W"
      }
    },
    {
      "cell_type": "code",
      "execution_count": null,
      "metadata": {
        "colab": {
          "base_uri": "https://localhost:8080/",
          "height": 573
        },
        "id": "bVncAxBYtdUT",
        "outputId": "61e759d5-1458-47d2-cbf2-a62126d79781"
      },
      "outputs": [
        {
          "data": {
            "text/html": [
              "<div>\n",
              "<style scoped>\n",
              "    .dataframe tbody tr th:only-of-type {\n",
              "        vertical-align: middle;\n",
              "    }\n",
              "\n",
              "    .dataframe tbody tr th {\n",
              "        vertical-align: top;\n",
              "    }\n",
              "\n",
              "    .dataframe thead th {\n",
              "        text-align: right;\n",
              "    }\n",
              "</style>\n",
              "<table border=\"1\" class=\"dataframe\">\n",
              "  <thead>\n",
              "    <tr style=\"text-align: right;\">\n",
              "      <th></th>\n",
              "      <th>age</th>\n",
              "      <th>workclass</th>\n",
              "      <th>fnlwgt</th>\n",
              "      <th>education</th>\n",
              "      <th>education_num</th>\n",
              "      <th>marital_status</th>\n",
              "      <th>occupation</th>\n",
              "      <th>relationship</th>\n",
              "      <th>race</th>\n",
              "      <th>sex</th>\n",
              "      <th>capital_gain</th>\n",
              "      <th>capital_loss</th>\n",
              "      <th>hours_per_week</th>\n",
              "      <th>native_country</th>\n",
              "      <th>income</th>\n",
              "      <th>education_level</th>\n",
              "      <th>occupation_grouped</th>\n",
              "      <th>native_region</th>\n",
              "    </tr>\n",
              "  </thead>\n",
              "  <tbody>\n",
              "    <tr>\n",
              "      <th>0</th>\n",
              "      <td>39</td>\n",
              "      <td>government</td>\n",
              "      <td>77516</td>\n",
              "      <td>bachelors</td>\n",
              "      <td>13</td>\n",
              "      <td>single</td>\n",
              "      <td>adm-clerical</td>\n",
              "      <td>single</td>\n",
              "      <td>white</td>\n",
              "      <td>male</td>\n",
              "      <td>2174</td>\n",
              "      <td>0</td>\n",
              "      <td>40</td>\n",
              "      <td>united-states</td>\n",
              "      <td>&lt;=50k</td>\n",
              "      <td>tertiary</td>\n",
              "      <td>white collar</td>\n",
              "      <td>north america</td>\n",
              "    </tr>\n",
              "    <tr>\n",
              "      <th>1</th>\n",
              "      <td>50</td>\n",
              "      <td>self-employed</td>\n",
              "      <td>83311</td>\n",
              "      <td>bachelors</td>\n",
              "      <td>13</td>\n",
              "      <td>married</td>\n",
              "      <td>exec-managerial</td>\n",
              "      <td>male spouse</td>\n",
              "      <td>white</td>\n",
              "      <td>male</td>\n",
              "      <td>0</td>\n",
              "      <td>0</td>\n",
              "      <td>13</td>\n",
              "      <td>united-states</td>\n",
              "      <td>&lt;=50k</td>\n",
              "      <td>tertiary</td>\n",
              "      <td>white collar</td>\n",
              "      <td>north america</td>\n",
              "    </tr>\n",
              "    <tr>\n",
              "      <th>2</th>\n",
              "      <td>38</td>\n",
              "      <td>private</td>\n",
              "      <td>215646</td>\n",
              "      <td>hs-grad</td>\n",
              "      <td>9</td>\n",
              "      <td>divorced or separated</td>\n",
              "      <td>handlers-cleaners</td>\n",
              "      <td>single</td>\n",
              "      <td>white</td>\n",
              "      <td>male</td>\n",
              "      <td>0</td>\n",
              "      <td>0</td>\n",
              "      <td>40</td>\n",
              "      <td>united-states</td>\n",
              "      <td>&lt;=50k</td>\n",
              "      <td>high school graduate</td>\n",
              "      <td>blue collar</td>\n",
              "      <td>north america</td>\n",
              "    </tr>\n",
              "    <tr>\n",
              "      <th>3</th>\n",
              "      <td>53</td>\n",
              "      <td>private</td>\n",
              "      <td>234721</td>\n",
              "      <td>11th</td>\n",
              "      <td>7</td>\n",
              "      <td>married</td>\n",
              "      <td>handlers-cleaners</td>\n",
              "      <td>male spouse</td>\n",
              "      <td>black</td>\n",
              "      <td>male</td>\n",
              "      <td>0</td>\n",
              "      <td>0</td>\n",
              "      <td>40</td>\n",
              "      <td>united-states</td>\n",
              "      <td>&lt;=50k</td>\n",
              "      <td>secondary</td>\n",
              "      <td>blue collar</td>\n",
              "      <td>north america</td>\n",
              "    </tr>\n",
              "    <tr>\n",
              "      <th>4</th>\n",
              "      <td>28</td>\n",
              "      <td>private</td>\n",
              "      <td>338409</td>\n",
              "      <td>bachelors</td>\n",
              "      <td>13</td>\n",
              "      <td>married</td>\n",
              "      <td>prof-specialty</td>\n",
              "      <td>female spouse</td>\n",
              "      <td>black</td>\n",
              "      <td>female</td>\n",
              "      <td>0</td>\n",
              "      <td>0</td>\n",
              "      <td>40</td>\n",
              "      <td>cuba</td>\n",
              "      <td>&lt;=50k</td>\n",
              "      <td>tertiary</td>\n",
              "      <td>white collar</td>\n",
              "      <td>central america</td>\n",
              "    </tr>\n",
              "    <tr>\n",
              "      <th>5</th>\n",
              "      <td>37</td>\n",
              "      <td>private</td>\n",
              "      <td>284582</td>\n",
              "      <td>masters</td>\n",
              "      <td>14</td>\n",
              "      <td>married</td>\n",
              "      <td>exec-managerial</td>\n",
              "      <td>female spouse</td>\n",
              "      <td>white</td>\n",
              "      <td>female</td>\n",
              "      <td>0</td>\n",
              "      <td>0</td>\n",
              "      <td>40</td>\n",
              "      <td>united-states</td>\n",
              "      <td>&lt;=50k</td>\n",
              "      <td>tertiary</td>\n",
              "      <td>white collar</td>\n",
              "      <td>north america</td>\n",
              "    </tr>\n",
              "    <tr>\n",
              "      <th>6</th>\n",
              "      <td>49</td>\n",
              "      <td>private</td>\n",
              "      <td>160187</td>\n",
              "      <td>9th</td>\n",
              "      <td>5</td>\n",
              "      <td>divorced or separated</td>\n",
              "      <td>other-service</td>\n",
              "      <td>single</td>\n",
              "      <td>black</td>\n",
              "      <td>female</td>\n",
              "      <td>0</td>\n",
              "      <td>0</td>\n",
              "      <td>16</td>\n",
              "      <td>jamaica</td>\n",
              "      <td>&lt;=50k</td>\n",
              "      <td>primary</td>\n",
              "      <td>blue collar</td>\n",
              "      <td>central america</td>\n",
              "    </tr>\n",
              "    <tr>\n",
              "      <th>7</th>\n",
              "      <td>52</td>\n",
              "      <td>self-employed</td>\n",
              "      <td>209642</td>\n",
              "      <td>hs-grad</td>\n",
              "      <td>9</td>\n",
              "      <td>married</td>\n",
              "      <td>exec-managerial</td>\n",
              "      <td>male spouse</td>\n",
              "      <td>white</td>\n",
              "      <td>male</td>\n",
              "      <td>0</td>\n",
              "      <td>0</td>\n",
              "      <td>45</td>\n",
              "      <td>united-states</td>\n",
              "      <td>&gt;50k</td>\n",
              "      <td>high school graduate</td>\n",
              "      <td>white collar</td>\n",
              "      <td>north america</td>\n",
              "    </tr>\n",
              "    <tr>\n",
              "      <th>8</th>\n",
              "      <td>31</td>\n",
              "      <td>private</td>\n",
              "      <td>45781</td>\n",
              "      <td>masters</td>\n",
              "      <td>14</td>\n",
              "      <td>single</td>\n",
              "      <td>prof-specialty</td>\n",
              "      <td>single</td>\n",
              "      <td>white</td>\n",
              "      <td>female</td>\n",
              "      <td>14084</td>\n",
              "      <td>0</td>\n",
              "      <td>50</td>\n",
              "      <td>united-states</td>\n",
              "      <td>&gt;50k</td>\n",
              "      <td>tertiary</td>\n",
              "      <td>white collar</td>\n",
              "      <td>north america</td>\n",
              "    </tr>\n",
              "    <tr>\n",
              "      <th>9</th>\n",
              "      <td>42</td>\n",
              "      <td>private</td>\n",
              "      <td>159449</td>\n",
              "      <td>bachelors</td>\n",
              "      <td>13</td>\n",
              "      <td>married</td>\n",
              "      <td>exec-managerial</td>\n",
              "      <td>male spouse</td>\n",
              "      <td>white</td>\n",
              "      <td>male</td>\n",
              "      <td>5178</td>\n",
              "      <td>0</td>\n",
              "      <td>40</td>\n",
              "      <td>united-states</td>\n",
              "      <td>&gt;50k</td>\n",
              "      <td>tertiary</td>\n",
              "      <td>white collar</td>\n",
              "      <td>north america</td>\n",
              "    </tr>\n",
              "  </tbody>\n",
              "</table>\n",
              "</div>"
            ],
            "text/plain": [
              "   age      workclass  fnlwgt  education  education_num  \\\n",
              "0   39     government   77516  bachelors             13   \n",
              "1   50  self-employed   83311  bachelors             13   \n",
              "2   38        private  215646    hs-grad              9   \n",
              "3   53        private  234721       11th              7   \n",
              "4   28        private  338409  bachelors             13   \n",
              "5   37        private  284582    masters             14   \n",
              "6   49        private  160187        9th              5   \n",
              "7   52  self-employed  209642    hs-grad              9   \n",
              "8   31        private   45781    masters             14   \n",
              "9   42        private  159449  bachelors             13   \n",
              "\n",
              "          marital_status         occupation   relationship   race     sex  \\\n",
              "0                 single       adm-clerical         single  white    male   \n",
              "1                married    exec-managerial    male spouse  white    male   \n",
              "2  divorced or separated  handlers-cleaners         single  white    male   \n",
              "3                married  handlers-cleaners    male spouse  black    male   \n",
              "4                married     prof-specialty  female spouse  black  female   \n",
              "5                married    exec-managerial  female spouse  white  female   \n",
              "6  divorced or separated      other-service         single  black  female   \n",
              "7                married    exec-managerial    male spouse  white    male   \n",
              "8                 single     prof-specialty         single  white  female   \n",
              "9                married    exec-managerial    male spouse  white    male   \n",
              "\n",
              "   capital_gain  capital_loss  hours_per_week native_country income  \\\n",
              "0          2174             0              40  united-states  <=50k   \n",
              "1             0             0              13  united-states  <=50k   \n",
              "2             0             0              40  united-states  <=50k   \n",
              "3             0             0              40  united-states  <=50k   \n",
              "4             0             0              40           cuba  <=50k   \n",
              "5             0             0              40  united-states  <=50k   \n",
              "6             0             0              16        jamaica  <=50k   \n",
              "7             0             0              45  united-states   >50k   \n",
              "8         14084             0              50  united-states   >50k   \n",
              "9          5178             0              40  united-states   >50k   \n",
              "\n",
              "        education_level occupation_grouped    native_region  \n",
              "0              tertiary       white collar    north america  \n",
              "1              tertiary       white collar    north america  \n",
              "2  high school graduate        blue collar    north america  \n",
              "3             secondary        blue collar    north america  \n",
              "4              tertiary       white collar  central america  \n",
              "5              tertiary       white collar    north america  \n",
              "6               primary        blue collar  central america  \n",
              "7  high school graduate       white collar    north america  \n",
              "8              tertiary       white collar    north america  \n",
              "9              tertiary       white collar    north america  "
            ]
          },
          "execution_count": 80,
          "metadata": {},
          "output_type": "execute_result"
        }
      ],
      "source": [
        "adult_df_filename = os.path.join(processed_dir,r\"C:\\Users\\user\\Downloads\\cleaned_adult_data.csv\")\n",
        "adult_df = pd.read_csv(adult_df_filename)\n",
        "adult_df.head(10)"
      ]
    },
    {
      "cell_type": "markdown",
      "source": [
        "## Dataset Dimensions and Data Types\n",
        "\n",
        "Here, we examine the structure of the dataset:\n",
        "\n",
        "- There are *32,513* entries and *16* variables.\n",
        "- The dataset includes both **numerical** (e.g., `age`, `hours_per_week`) and **categorical** variables (e.g., `sex`, `education_level`).\n",
        "\n",
        "Understanding data types and null entries is essential before proceeding with analysis.\n"
      ],
      "metadata": {
        "id": "y0fK9av9U2PB"
      }
    },
    {
      "cell_type": "code",
      "execution_count": null,
      "metadata": {
        "colab": {
          "base_uri": "https://localhost:8080/"
        },
        "id": "tGVEc04QuW1u",
        "outputId": "153ace26-088f-483f-b384-fdbbfd956790"
      },
      "outputs": [
        {
          "data": {
            "text/plain": [
              "(32537, 18)"
            ]
          },
          "execution_count": 81,
          "metadata": {},
          "output_type": "execute_result"
        }
      ],
      "source": [
        "adult_df.shape"
      ]
    },
    {
      "cell_type": "code",
      "execution_count": null,
      "metadata": {
        "colab": {
          "base_uri": "https://localhost:8080/"
        },
        "id": "QUFYtfS2uyqs",
        "outputId": "d9925d66-183f-48b1-c10a-9bc39280e98a"
      },
      "outputs": [
        {
          "name": "stdout",
          "output_type": "stream",
          "text": [
            "<class 'pandas.core.frame.DataFrame'>\n",
            "RangeIndex: 32537 entries, 0 to 32536\n",
            "Data columns (total 18 columns):\n",
            " #   Column              Non-Null Count  Dtype \n",
            "---  ------              --------------  ----- \n",
            " 0   age                 32537 non-null  int64 \n",
            " 1   workclass           32537 non-null  object\n",
            " 2   fnlwgt              32537 non-null  int64 \n",
            " 3   education           32537 non-null  object\n",
            " 4   education_num       32537 non-null  int64 \n",
            " 5   marital_status      32537 non-null  object\n",
            " 6   occupation          32537 non-null  object\n",
            " 7   relationship        32537 non-null  object\n",
            " 8   race                32537 non-null  object\n",
            " 9   sex                 32537 non-null  object\n",
            " 10  capital_gain        32537 non-null  int64 \n",
            " 11  capital_loss        32537 non-null  int64 \n",
            " 12  hours_per_week      32537 non-null  int64 \n",
            " 13  native_country      32537 non-null  object\n",
            " 14  income              32537 non-null  object\n",
            " 15  education_level     30894 non-null  object\n",
            " 16  occupation_grouped  30694 non-null  object\n",
            " 17  native_region       32478 non-null  object\n",
            "dtypes: int64(6), object(12)\n",
            "memory usage: 4.5+ MB\n"
          ]
        }
      ],
      "source": [
        "adult_df.info()"
      ]
    },
    {
      "cell_type": "markdown",
      "source": [
        "\n",
        "## Summary Statistics: Categorical Variables\n"
      ],
      "metadata": {
        "id": "gyF5Vf_HVM-f"
      }
    },
    {
      "cell_type": "code",
      "execution_count": null,
      "metadata": {
        "colab": {
          "base_uri": "https://localhost:8080/",
          "height": 229
        },
        "id": "GyN5F9vdvfxn",
        "outputId": "476bd0d1-54c9-461a-be1d-c406fefa5f4e"
      },
      "outputs": [
        {
          "data": {
            "text/html": [
              "<div>\n",
              "<style scoped>\n",
              "    .dataframe tbody tr th:only-of-type {\n",
              "        vertical-align: middle;\n",
              "    }\n",
              "\n",
              "    .dataframe tbody tr th {\n",
              "        vertical-align: top;\n",
              "    }\n",
              "\n",
              "    .dataframe thead th {\n",
              "        text-align: right;\n",
              "    }\n",
              "</style>\n",
              "<table border=\"1\" class=\"dataframe\">\n",
              "  <thead>\n",
              "    <tr style=\"text-align: right;\">\n",
              "      <th></th>\n",
              "      <th>workclass</th>\n",
              "      <th>education</th>\n",
              "      <th>marital_status</th>\n",
              "      <th>occupation</th>\n",
              "      <th>relationship</th>\n",
              "      <th>race</th>\n",
              "      <th>sex</th>\n",
              "      <th>native_country</th>\n",
              "      <th>income</th>\n",
              "      <th>education_level</th>\n",
              "      <th>occupation_grouped</th>\n",
              "      <th>native_region</th>\n",
              "    </tr>\n",
              "  </thead>\n",
              "  <tbody>\n",
              "    <tr>\n",
              "      <th>count</th>\n",
              "      <td>32537</td>\n",
              "      <td>32537</td>\n",
              "      <td>32537</td>\n",
              "      <td>32537</td>\n",
              "      <td>32537</td>\n",
              "      <td>32537</td>\n",
              "      <td>32537</td>\n",
              "      <td>32537</td>\n",
              "      <td>32537</td>\n",
              "      <td>30894</td>\n",
              "      <td>30694</td>\n",
              "      <td>32478</td>\n",
              "    </tr>\n",
              "    <tr>\n",
              "      <th>unique</th>\n",
              "      <td>8</td>\n",
              "      <td>16</td>\n",
              "      <td>4</td>\n",
              "      <td>15</td>\n",
              "      <td>5</td>\n",
              "      <td>5</td>\n",
              "      <td>2</td>\n",
              "      <td>42</td>\n",
              "      <td>2</td>\n",
              "      <td>6</td>\n",
              "      <td>4</td>\n",
              "      <td>6</td>\n",
              "    </tr>\n",
              "    <tr>\n",
              "      <th>top</th>\n",
              "      <td>private</td>\n",
              "      <td>hs-grad</td>\n",
              "      <td>married</td>\n",
              "      <td>prof-specialty</td>\n",
              "      <td>male spouse</td>\n",
              "      <td>white</td>\n",
              "      <td>male</td>\n",
              "      <td>united-states</td>\n",
              "      <td>&lt;=50k</td>\n",
              "      <td>high school graduate</td>\n",
              "      <td>white collar</td>\n",
              "      <td>north america</td>\n",
              "    </tr>\n",
              "    <tr>\n",
              "      <th>freq</th>\n",
              "      <td>22673</td>\n",
              "      <td>10494</td>\n",
              "      <td>14993</td>\n",
              "      <td>4136</td>\n",
              "      <td>13187</td>\n",
              "      <td>27795</td>\n",
              "      <td>21775</td>\n",
              "      <td>29153</td>\n",
              "      <td>24698</td>\n",
              "      <td>10494</td>\n",
              "      <td>17195</td>\n",
              "      <td>30041</td>\n",
              "    </tr>\n",
              "  </tbody>\n",
              "</table>\n",
              "</div>"
            ],
            "text/plain": [
              "       workclass education marital_status      occupation relationship   race  \\\n",
              "count      32537     32537          32537           32537        32537  32537   \n",
              "unique         8        16              4              15            5      5   \n",
              "top      private   hs-grad        married  prof-specialty  male spouse  white   \n",
              "freq       22673     10494          14993            4136        13187  27795   \n",
              "\n",
              "          sex native_country income       education_level occupation_grouped  \\\n",
              "count   32537          32537  32537                 30894              30694   \n",
              "unique      2             42      2                     6                  4   \n",
              "top      male  united-states  <=50k  high school graduate       white collar   \n",
              "freq    21775          29153  24698                 10494              17195   \n",
              "\n",
              "        native_region  \n",
              "count           32478  \n",
              "unique              6  \n",
              "top     north america  \n",
              "freq            30041  "
            ]
          },
          "execution_count": 83,
          "metadata": {},
          "output_type": "execute_result"
        }
      ],
      "source": [
        "adult_df.describe(include='object')"
      ]
    },
    {
      "cell_type": "code",
      "execution_count": null,
      "metadata": {
        "colab": {
          "base_uri": "https://localhost:8080/",
          "height": 366
        },
        "id": "89MvsuvKv9Ck",
        "outputId": "1e9dcdd5-5b96-4857-e1cf-74bbadf4287a"
      },
      "outputs": [
        {
          "data": {
            "text/plain": [
              "workclass\n",
              "private          0.696837\n",
              "self-employed    0.078065\n",
              "government       0.069398\n",
              "local-gov        0.064327\n",
              "unkown           0.056428\n",
              "self-emp-inc     0.034299\n",
              "voluntary        0.000430\n",
              "never-worked     0.000215\n",
              "Name: proportion, dtype: float64"
            ]
          },
          "execution_count": 84,
          "metadata": {},
          "output_type": "execute_result"
        }
      ],
      "source": [
        "adult_df['workclass'].value_counts(normalize=True)\n"
      ]
    },
    {
      "cell_type": "markdown",
      "source": [
        "`workclass`\n",
        "\n",
        "The private sector dominates, employing ~69.7% of the population. The government sector (13.4%) and self-employment (11.2%) also make up substantial portions of the workforce. A small fraction is labeled as \"unknown\" (5.6%), which may correspond to missing or ambiguous data entries. Tiny proportions are voluntary (0.04%) or unemployed (0.02%), possibly underreported or underrepresented in the sample.\n",
        "\n",
        "`marital_status`\n",
        "\n",
        "Married individuals make up the largest group (46.1%), followed by those who are single (32.8%) and divorced or separated (18.1%). Widowed individuals represent a small minority (~3.1%).\n",
        "\n",
        "`relationship`\n",
        "\n",
        "The majority are labeled as \"male spouse\" (40.5%) or \"single\" (36.1%). Smaller categories include children (15.6%), female spouses (4.8%), and extended relatives (3.0%). The dominance of `male spouse` reflects the dataset’s gendered structure and may point to traditional family roles. The relative scarcity of \"female spouse\" roles suggests potential gender imbalances in how income-earning is reported within households.\n",
        "\n",
        "`race`\n",
        "\n",
        "The dataset is overwhelmingly composed of White individuals (~85.4%). Other racial groups include Black (9.6%), Asian or Pacific Islander (3.2%), American Indian or Eskimo (1.0%), and Other (0.8%). The racial imbalance limits the generalizability of models trained on this data. Smaller racial groups may suffer from limited statistical power, affecting fairness and performance in predictive modeling.\n",
        "\n",
        "`sex`\n",
        "\n",
        "Males constitute 66.9% of the dataset, with females making up the remaining 33.1%. This male-skewed distribution could be due to sampling (e.g., primary earners in households), workforce participation patterns, or reporting biases.\n",
        "\n",
        "`education_level`\n",
        "\n",
        "Secondary-school graduates form the largest educational group (~32%), highlighting the central role of high school completion in the labor force. Tertiary education holders — those with university or equivalent degrees — account for nearly 25% of the population, representing a substantial segment with advanced qualifications. A notable 22.4% have attended some college without necessarily earning a degree, suggesting that partial post-secondary education is common, yet may not always translate into formal certification. The remaining 20% are distributed among those with only secondary education (9.4%), associate degrees (7.5%), primary school (3.5%), and a very small group with only preschool education (0.15%). It is ecident that the education distribution is skewed toward mid- to high-level education, with relatively few individuals having only basic schooling. This reflects a dataset that largely captures working-age adults in formal labor, which may underrepresent the least-educated populations.\n",
        "\n",
        "`occupation_grouped`\n",
        "\n",
        "White-collar occupations are the most prevalent (~51%), followed by blue-collar, service, and unknown. Smaller categories include military, which is marginal. Essentially, slightly over half of individuals in the dataset work in professional, managerial, sales, clerical, or tech-support roles. This suggests the dataset is heavily weighted toward professional and administrative occupations. Nearly a third of the population works in manual labor or skilled trade positions (craft, transport, machine operation, farming, etc.). This indicates a significant segment engaged in physically intensive or technical labor.\n",
        "\n",
        "`native_region`\n",
        "\n",
        "The vast majority of individuals are from North America (~92.3%). Smaller proportions are from Central America, Asia, Europe, South America, and a generic Other category. The heavy concentration of North American individuals reflects the U.S. focus of the dataset.\n",
        "\n",
        "`age_group`\n",
        "\n",
        "The largest groups are 26–35 and 36–45, followed by 46–60. These three age groups represent about 73% of the dataset. Very few individuals are under 18 or above 75, consistent with the dataset's focus on the working-age population.\n",
        "\n",
        "\n",
        "\n",
        "\n",
        "\n",
        "\n",
        "\n",
        "\n",
        "\n",
        "\n",
        "\n",
        "\n",
        "\n",
        "\n",
        "## Income Distribution\n",
        "\n",
        "Given that `income` is the target variable, most of the analysis hereafter will be based on it. We first of all examine the income distribution in the dataset.\n",
        "\n"
      ],
      "metadata": {
        "id": "KAJ223YyVwZx"
      }
    },
    {
      "cell_type": "code",
      "execution_count": null,
      "metadata": {
        "id": "Kgb6KsC8xb_I",
        "outputId": "f2eb9525-a402-499c-e810-ae0473ba9768"
      },
      "outputs": [
        {
          "data": {
            "text/html": [
              "<div>\n",
              "<style scoped>\n",
              "    .dataframe tbody tr th:only-of-type {\n",
              "        vertical-align: middle;\n",
              "    }\n",
              "\n",
              "    .dataframe tbody tr th {\n",
              "        vertical-align: top;\n",
              "    }\n",
              "\n",
              "    .dataframe thead th {\n",
              "        text-align: right;\n",
              "    }\n",
              "</style>\n",
              "<table border=\"1\" class=\"dataframe\">\n",
              "  <thead>\n",
              "    <tr style=\"text-align: right;\">\n",
              "      <th></th>\n",
              "      <th>native_region</th>\n",
              "      <th>income</th>\n",
              "      <th>total_income_distr</th>\n",
              "    </tr>\n",
              "  </thead>\n",
              "  <tbody>\n",
              "    <tr>\n",
              "      <th>0</th>\n",
              "      <td>asia</td>\n",
              "      <td>&lt;=50k</td>\n",
              "      <td>465</td>\n",
              "    </tr>\n",
              "    <tr>\n",
              "      <th>1</th>\n",
              "      <td>asia</td>\n",
              "      <td>&gt;50k</td>\n",
              "      <td>206</td>\n",
              "    </tr>\n",
              "    <tr>\n",
              "      <th>2</th>\n",
              "      <td>central america</td>\n",
              "      <td>&lt;=50k</td>\n",
              "      <td>466</td>\n",
              "    </tr>\n",
              "    <tr>\n",
              "      <th>3</th>\n",
              "      <td>central america</td>\n",
              "      <td>&gt;50k</td>\n",
              "      <td>58</td>\n",
              "    </tr>\n",
              "    <tr>\n",
              "      <th>4</th>\n",
              "      <td>europe</td>\n",
              "      <td>&lt;=50k</td>\n",
              "      <td>369</td>\n",
              "    </tr>\n",
              "    <tr>\n",
              "      <th>5</th>\n",
              "      <td>europe</td>\n",
              "      <td>&gt;50k</td>\n",
              "      <td>152</td>\n",
              "    </tr>\n",
              "    <tr>\n",
              "      <th>6</th>\n",
              "      <td>north america</td>\n",
              "      <td>&lt;=50k</td>\n",
              "      <td>22788</td>\n",
              "    </tr>\n",
              "    <tr>\n",
              "      <th>7</th>\n",
              "      <td>north america</td>\n",
              "      <td>&gt;50k</td>\n",
              "      <td>7253</td>\n",
              "    </tr>\n",
              "    <tr>\n",
              "      <th>8</th>\n",
              "      <td>other</td>\n",
              "      <td>&lt;=50k</td>\n",
              "      <td>436</td>\n",
              "    </tr>\n",
              "    <tr>\n",
              "      <th>9</th>\n",
              "      <td>other</td>\n",
              "      <td>&gt;50k</td>\n",
              "      <td>146</td>\n",
              "    </tr>\n",
              "    <tr>\n",
              "      <th>10</th>\n",
              "      <td>south america</td>\n",
              "      <td>&lt;=50k</td>\n",
              "      <td>117</td>\n",
              "    </tr>\n",
              "    <tr>\n",
              "      <th>11</th>\n",
              "      <td>south america</td>\n",
              "      <td>&gt;50k</td>\n",
              "      <td>22</td>\n",
              "    </tr>\n",
              "  </tbody>\n",
              "</table>\n",
              "</div>"
            ],
            "text/plain": [
              "      native_region income  total_income_distr\n",
              "0              asia  <=50k                 465\n",
              "1              asia   >50k                 206\n",
              "2   central america  <=50k                 466\n",
              "3   central america   >50k                  58\n",
              "4            europe  <=50k                 369\n",
              "5            europe   >50k                 152\n",
              "6     north america  <=50k               22788\n",
              "7     north america   >50k                7253\n",
              "8             other  <=50k                 436\n",
              "9             other   >50k                 146\n",
              "10    south america  <=50k                 117\n",
              "11    south america   >50k                  22"
            ]
          },
          "execution_count": 85,
          "metadata": {},
          "output_type": "execute_result"
        }
      ],
      "source": [
        "adult_df_income_native_region = adult_df.groupby(['native_region', 'income']).size().reset_index(name='total_income_distr')\n",
        "adult_df_income_native_region"
      ]
    },
    {
      "cell_type": "code",
      "execution_count": null,
      "metadata": {
        "id": "JqlKflR7UKNR",
        "outputId": "0d5362fc-40bb-4a6a-a99e-0fb9477e2b62"
      },
      "outputs": [
        {
          "data": {
            "text/html": [
              "<div>\n",
              "<style scoped>\n",
              "    .dataframe tbody tr th:only-of-type {\n",
              "        vertical-align: middle;\n",
              "    }\n",
              "\n",
              "    .dataframe tbody tr th {\n",
              "        vertical-align: top;\n",
              "    }\n",
              "\n",
              "    .dataframe thead th {\n",
              "        text-align: right;\n",
              "    }\n",
              "</style>\n",
              "<table border=\"1\" class=\"dataframe\">\n",
              "  <thead>\n",
              "    <tr style=\"text-align: right;\">\n",
              "      <th></th>\n",
              "      <th>native_region</th>\n",
              "      <th>income</th>\n",
              "      <th>total_income_distr</th>\n",
              "      <th>percentage</th>\n",
              "    </tr>\n",
              "  </thead>\n",
              "  <tbody>\n",
              "    <tr>\n",
              "      <th>0</th>\n",
              "      <td>asia</td>\n",
              "      <td>&lt;=50k</td>\n",
              "      <td>465</td>\n",
              "      <td>69.299553</td>\n",
              "    </tr>\n",
              "    <tr>\n",
              "      <th>1</th>\n",
              "      <td>asia</td>\n",
              "      <td>&gt;50k</td>\n",
              "      <td>206</td>\n",
              "      <td>30.700447</td>\n",
              "    </tr>\n",
              "    <tr>\n",
              "      <th>2</th>\n",
              "      <td>central america</td>\n",
              "      <td>&lt;=50k</td>\n",
              "      <td>466</td>\n",
              "      <td>88.931298</td>\n",
              "    </tr>\n",
              "    <tr>\n",
              "      <th>3</th>\n",
              "      <td>central america</td>\n",
              "      <td>&gt;50k</td>\n",
              "      <td>58</td>\n",
              "      <td>11.068702</td>\n",
              "    </tr>\n",
              "    <tr>\n",
              "      <th>4</th>\n",
              "      <td>europe</td>\n",
              "      <td>&lt;=50k</td>\n",
              "      <td>369</td>\n",
              "      <td>70.825336</td>\n",
              "    </tr>\n",
              "    <tr>\n",
              "      <th>5</th>\n",
              "      <td>europe</td>\n",
              "      <td>&gt;50k</td>\n",
              "      <td>152</td>\n",
              "      <td>29.174664</td>\n",
              "    </tr>\n",
              "    <tr>\n",
              "      <th>6</th>\n",
              "      <td>north america</td>\n",
              "      <td>&lt;=50k</td>\n",
              "      <td>22788</td>\n",
              "      <td>75.856330</td>\n",
              "    </tr>\n",
              "    <tr>\n",
              "      <th>7</th>\n",
              "      <td>north america</td>\n",
              "      <td>&gt;50k</td>\n",
              "      <td>7253</td>\n",
              "      <td>24.143670</td>\n",
              "    </tr>\n",
              "    <tr>\n",
              "      <th>8</th>\n",
              "      <td>other</td>\n",
              "      <td>&lt;=50k</td>\n",
              "      <td>436</td>\n",
              "      <td>74.914089</td>\n",
              "    </tr>\n",
              "    <tr>\n",
              "      <th>9</th>\n",
              "      <td>other</td>\n",
              "      <td>&gt;50k</td>\n",
              "      <td>146</td>\n",
              "      <td>25.085911</td>\n",
              "    </tr>\n",
              "    <tr>\n",
              "      <th>10</th>\n",
              "      <td>south america</td>\n",
              "      <td>&lt;=50k</td>\n",
              "      <td>117</td>\n",
              "      <td>84.172662</td>\n",
              "    </tr>\n",
              "    <tr>\n",
              "      <th>11</th>\n",
              "      <td>south america</td>\n",
              "      <td>&gt;50k</td>\n",
              "      <td>22</td>\n",
              "      <td>15.827338</td>\n",
              "    </tr>\n",
              "  </tbody>\n",
              "</table>\n",
              "</div>"
            ],
            "text/plain": [
              "      native_region income  total_income_distr  percentage\n",
              "0              asia  <=50k                 465   69.299553\n",
              "1              asia   >50k                 206   30.700447\n",
              "2   central america  <=50k                 466   88.931298\n",
              "3   central america   >50k                  58   11.068702\n",
              "4            europe  <=50k                 369   70.825336\n",
              "5            europe   >50k                 152   29.174664\n",
              "6     north america  <=50k               22788   75.856330\n",
              "7     north america   >50k                7253   24.143670\n",
              "8             other  <=50k                 436   74.914089\n",
              "9             other   >50k                 146   25.085911\n",
              "10    south america  <=50k                 117   84.172662\n",
              "11    south america   >50k                  22   15.827338"
            ]
          },
          "execution_count": 86,
          "metadata": {},
          "output_type": "execute_result"
        }
      ],
      "source": [
        "total_per_all=adult_df_income_native_region.groupby('native_region')['total_income_distr'].transform('sum')\n",
        "adult_df_income_native_region['percentage']=(adult_df_income_native_region['total_income_distr']/total_per_all)*100\n",
        "adult_df_income_native_region"
      ]
    },
    {
      "cell_type": "code",
      "execution_count": null,
      "metadata": {
        "id": "GyGYPkP8UKNR"
      },
      "outputs": [],
      "source": [
        "\n",
        "#pip install -U plotly\n"
      ]
    },
    {
      "cell_type": "code",
      "execution_count": null,
      "metadata": {
        "id": "Pgn4GrcTUKNS"
      },
      "outputs": [],
      "source": [
        "#pip install -U kaleido"
      ]
    },
    {
      "cell_type": "code",
      "execution_count": null,
      "metadata": {
        "id": "2inGY7j2UKNS",
        "outputId": "32024dce-b068-409b-d480-30a97d48465e"
      },
      "outputs": [
        {
          "data": {
            "application/vnd.plotly.v1+json": {
              "config": {
                "plotlyServerURL": "https://plot.ly"
              },
              "data": [
                {
                  "alignmentgroup": "True",
                  "hovertemplate": "income=<=50k<br>native_region=%{x}<br>percentage=%{text}<extra></extra>",
                  "legendgroup": "<=50k",
                  "marker": {
                    "color": "rgb(103,0,31)",
                    "pattern": {
                      "shape": ""
                    }
                  },
                  "name": "<=50k",
                  "offsetgroup": "<=50k",
                  "orientation": "v",
                  "showlegend": true,
                  "text": {
                    "_inputArray": {
                      "0": 69.29955290611028,
                      "1": 88.93129770992367,
                      "2": 70.8253358925144,
                      "3": 75.85632968276688,
                      "4": 74.91408934707904,
                      "5": 84.17266187050359,
                      "bdata": "lsrz3ytTUUCPvbVhmjtWQB6kok3StFFA+4QDG872UkDl1JpwgLpSQBDFX+QMC1VA",
                      "dtype": "f8",
                      "shape": "6"
                    },
                    "bdata": "lsrz3ytTUUCPvbVhmjtWQB6kok3StFFA+4QDG872UkDl1JpwgLpSQBDFX+QMC1VA",
                    "dtype": "f8"
                  },
                  "textposition": "outside",
                  "texttemplate": "%{text:.2f}%",
                  "type": "bar",
                  "x": [
                    "asia",
                    "central america",
                    "europe",
                    "north america",
                    "other",
                    "south america"
                  ],
                  "xaxis": "x",
                  "y": {
                    "_inputArray": {
                      "0": 69.29955290611028,
                      "1": 88.93129770992367,
                      "2": 70.8253358925144,
                      "3": 75.85632968276688,
                      "4": 74.91408934707904,
                      "5": 84.17266187050359,
                      "bdata": "lsrz3ytTUUCPvbVhmjtWQB6kok3StFFA+4QDG872UkDl1JpwgLpSQBDFX+QMC1VA",
                      "dtype": "f8",
                      "shape": "6"
                    },
                    "bdata": "lsrz3ytTUUCPvbVhmjtWQB6kok3StFFA+4QDG872UkDl1JpwgLpSQBDFX+QMC1VA",
                    "dtype": "f8"
                  },
                  "yaxis": "y"
                },
                {
                  "alignmentgroup": "True",
                  "hovertemplate": "income=>50k<br>native_region=%{x}<br>percentage=%{text}<extra></extra>",
                  "legendgroup": ">50k",
                  "marker": {
                    "color": "rgb(178,24,43)",
                    "pattern": {
                      "shape": ""
                    }
                  },
                  "name": ">50k",
                  "offsetgroup": ">50k",
                  "orientation": "v",
                  "showlegend": true,
                  "text": {
                    "_inputArray": {
                      "0": 30.700447093889714,
                      "1": 11.068702290076336,
                      "2": 29.174664107485604,
                      "3": 24.143670317233116,
                      "4": 25.085910652920962,
                      "5": 15.827338129496402,
                      "bdata": "ptUwgFCzPkCLE1LyLCMmQIpvdcm2LD1AFOzxk8ckOEBtrJQ9/hU5QHvXAd2Ypy9A",
                      "dtype": "f8",
                      "shape": "6"
                    },
                    "bdata": "ptUwgFCzPkCLE1LyLCMmQIpvdcm2LD1AFOzxk8ckOEBtrJQ9/hU5QHvXAd2Ypy9A",
                    "dtype": "f8"
                  },
                  "textposition": "outside",
                  "texttemplate": "%{text:.2f}%",
                  "type": "bar",
                  "x": [
                    "asia",
                    "central america",
                    "europe",
                    "north america",
                    "other",
                    "south america"
                  ],
                  "xaxis": "x",
                  "y": {
                    "_inputArray": {
                      "0": 30.700447093889714,
                      "1": 11.068702290076336,
                      "2": 29.174664107485604,
                      "3": 24.143670317233116,
                      "4": 25.085910652920962,
                      "5": 15.827338129496402,
                      "bdata": "ptUwgFCzPkCLE1LyLCMmQIpvdcm2LD1AFOzxk8ckOEBtrJQ9/hU5QHvXAd2Ypy9A",
                      "dtype": "f8",
                      "shape": "6"
                    },
                    "bdata": "ptUwgFCzPkCLE1LyLCMmQIpvdcm2LD1AFOzxk8ckOEBtrJQ9/hU5QHvXAd2Ypy9A",
                    "dtype": "f8"
                  },
                  "yaxis": "y"
                }
              ],
              "layout": {
                "autosize": true,
                "barmode": "group",
                "legend": {
                  "title": {
                    "text": "income"
                  },
                  "tracegroupgap": 0
                },
                "template": {
                  "data": {
                    "bar": [
                      {
                        "error_x": {
                          "color": "#2a3f5f"
                        },
                        "error_y": {
                          "color": "#2a3f5f"
                        },
                        "marker": {
                          "line": {
                            "color": "#E5ECF6",
                            "width": 0.5
                          },
                          "pattern": {
                            "fillmode": "overlay",
                            "size": 10,
                            "solidity": 0.2
                          }
                        },
                        "type": "bar"
                      }
                    ],
                    "barpolar": [
                      {
                        "marker": {
                          "line": {
                            "color": "#E5ECF6",
                            "width": 0.5
                          },
                          "pattern": {
                            "fillmode": "overlay",
                            "size": 10,
                            "solidity": 0.2
                          }
                        },
                        "type": "barpolar"
                      }
                    ],
                    "carpet": [
                      {
                        "aaxis": {
                          "endlinecolor": "#2a3f5f",
                          "gridcolor": "white",
                          "linecolor": "white",
                          "minorgridcolor": "white",
                          "startlinecolor": "#2a3f5f"
                        },
                        "baxis": {
                          "endlinecolor": "#2a3f5f",
                          "gridcolor": "white",
                          "linecolor": "white",
                          "minorgridcolor": "white",
                          "startlinecolor": "#2a3f5f"
                        },
                        "type": "carpet"
                      }
                    ],
                    "choropleth": [
                      {
                        "colorbar": {
                          "outlinewidth": 0,
                          "ticks": ""
                        },
                        "type": "choropleth"
                      }
                    ],
                    "contour": [
                      {
                        "colorbar": {
                          "outlinewidth": 0,
                          "ticks": ""
                        },
                        "colorscale": [
                          [
                            0,
                            "#0d0887"
                          ],
                          [
                            0.1111111111111111,
                            "#46039f"
                          ],
                          [
                            0.2222222222222222,
                            "#7201a8"
                          ],
                          [
                            0.3333333333333333,
                            "#9c179e"
                          ],
                          [
                            0.4444444444444444,
                            "#bd3786"
                          ],
                          [
                            0.5555555555555556,
                            "#d8576b"
                          ],
                          [
                            0.6666666666666666,
                            "#ed7953"
                          ],
                          [
                            0.7777777777777778,
                            "#fb9f3a"
                          ],
                          [
                            0.8888888888888888,
                            "#fdca26"
                          ],
                          [
                            1,
                            "#f0f921"
                          ]
                        ],
                        "type": "contour"
                      }
                    ],
                    "contourcarpet": [
                      {
                        "colorbar": {
                          "outlinewidth": 0,
                          "ticks": ""
                        },
                        "type": "contourcarpet"
                      }
                    ],
                    "heatmap": [
                      {
                        "colorbar": {
                          "outlinewidth": 0,
                          "ticks": ""
                        },
                        "colorscale": [
                          [
                            0,
                            "#0d0887"
                          ],
                          [
                            0.1111111111111111,
                            "#46039f"
                          ],
                          [
                            0.2222222222222222,
                            "#7201a8"
                          ],
                          [
                            0.3333333333333333,
                            "#9c179e"
                          ],
                          [
                            0.4444444444444444,
                            "#bd3786"
                          ],
                          [
                            0.5555555555555556,
                            "#d8576b"
                          ],
                          [
                            0.6666666666666666,
                            "#ed7953"
                          ],
                          [
                            0.7777777777777778,
                            "#fb9f3a"
                          ],
                          [
                            0.8888888888888888,
                            "#fdca26"
                          ],
                          [
                            1,
                            "#f0f921"
                          ]
                        ],
                        "type": "heatmap"
                      }
                    ],
                    "histogram": [
                      {
                        "marker": {
                          "pattern": {
                            "fillmode": "overlay",
                            "size": 10,
                            "solidity": 0.2
                          }
                        },
                        "type": "histogram"
                      }
                    ],
                    "histogram2d": [
                      {
                        "colorbar": {
                          "outlinewidth": 0,
                          "ticks": ""
                        },
                        "colorscale": [
                          [
                            0,
                            "#0d0887"
                          ],
                          [
                            0.1111111111111111,
                            "#46039f"
                          ],
                          [
                            0.2222222222222222,
                            "#7201a8"
                          ],
                          [
                            0.3333333333333333,
                            "#9c179e"
                          ],
                          [
                            0.4444444444444444,
                            "#bd3786"
                          ],
                          [
                            0.5555555555555556,
                            "#d8576b"
                          ],
                          [
                            0.6666666666666666,
                            "#ed7953"
                          ],
                          [
                            0.7777777777777778,
                            "#fb9f3a"
                          ],
                          [
                            0.8888888888888888,
                            "#fdca26"
                          ],
                          [
                            1,
                            "#f0f921"
                          ]
                        ],
                        "type": "histogram2d"
                      }
                    ],
                    "histogram2dcontour": [
                      {
                        "colorbar": {
                          "outlinewidth": 0,
                          "ticks": ""
                        },
                        "colorscale": [
                          [
                            0,
                            "#0d0887"
                          ],
                          [
                            0.1111111111111111,
                            "#46039f"
                          ],
                          [
                            0.2222222222222222,
                            "#7201a8"
                          ],
                          [
                            0.3333333333333333,
                            "#9c179e"
                          ],
                          [
                            0.4444444444444444,
                            "#bd3786"
                          ],
                          [
                            0.5555555555555556,
                            "#d8576b"
                          ],
                          [
                            0.6666666666666666,
                            "#ed7953"
                          ],
                          [
                            0.7777777777777778,
                            "#fb9f3a"
                          ],
                          [
                            0.8888888888888888,
                            "#fdca26"
                          ],
                          [
                            1,
                            "#f0f921"
                          ]
                        ],
                        "type": "histogram2dcontour"
                      }
                    ],
                    "mesh3d": [
                      {
                        "colorbar": {
                          "outlinewidth": 0,
                          "ticks": ""
                        },
                        "type": "mesh3d"
                      }
                    ],
                    "parcoords": [
                      {
                        "line": {
                          "colorbar": {
                            "outlinewidth": 0,
                            "ticks": ""
                          }
                        },
                        "type": "parcoords"
                      }
                    ],
                    "pie": [
                      {
                        "automargin": true,
                        "type": "pie"
                      }
                    ],
                    "scatter": [
                      {
                        "fillpattern": {
                          "fillmode": "overlay",
                          "size": 10,
                          "solidity": 0.2
                        },
                        "type": "scatter"
                      }
                    ],
                    "scatter3d": [
                      {
                        "line": {
                          "colorbar": {
                            "outlinewidth": 0,
                            "ticks": ""
                          }
                        },
                        "marker": {
                          "colorbar": {
                            "outlinewidth": 0,
                            "ticks": ""
                          }
                        },
                        "type": "scatter3d"
                      }
                    ],
                    "scattercarpet": [
                      {
                        "marker": {
                          "colorbar": {
                            "outlinewidth": 0,
                            "ticks": ""
                          }
                        },
                        "type": "scattercarpet"
                      }
                    ],
                    "scattergeo": [
                      {
                        "marker": {
                          "colorbar": {
                            "outlinewidth": 0,
                            "ticks": ""
                          }
                        },
                        "type": "scattergeo"
                      }
                    ],
                    "scattergl": [
                      {
                        "marker": {
                          "colorbar": {
                            "outlinewidth": 0,
                            "ticks": ""
                          }
                        },
                        "type": "scattergl"
                      }
                    ],
                    "scattermap": [
                      {
                        "marker": {
                          "colorbar": {
                            "outlinewidth": 0,
                            "ticks": ""
                          }
                        },
                        "type": "scattermap"
                      }
                    ],
                    "scattermapbox": [
                      {
                        "marker": {
                          "colorbar": {
                            "outlinewidth": 0,
                            "ticks": ""
                          }
                        },
                        "type": "scattermapbox"
                      }
                    ],
                    "scatterpolar": [
                      {
                        "marker": {
                          "colorbar": {
                            "outlinewidth": 0,
                            "ticks": ""
                          }
                        },
                        "type": "scatterpolar"
                      }
                    ],
                    "scatterpolargl": [
                      {
                        "marker": {
                          "colorbar": {
                            "outlinewidth": 0,
                            "ticks": ""
                          }
                        },
                        "type": "scatterpolargl"
                      }
                    ],
                    "scatterternary": [
                      {
                        "marker": {
                          "colorbar": {
                            "outlinewidth": 0,
                            "ticks": ""
                          }
                        },
                        "type": "scatterternary"
                      }
                    ],
                    "surface": [
                      {
                        "colorbar": {
                          "outlinewidth": 0,
                          "ticks": ""
                        },
                        "colorscale": [
                          [
                            0,
                            "#0d0887"
                          ],
                          [
                            0.1111111111111111,
                            "#46039f"
                          ],
                          [
                            0.2222222222222222,
                            "#7201a8"
                          ],
                          [
                            0.3333333333333333,
                            "#9c179e"
                          ],
                          [
                            0.4444444444444444,
                            "#bd3786"
                          ],
                          [
                            0.5555555555555556,
                            "#d8576b"
                          ],
                          [
                            0.6666666666666666,
                            "#ed7953"
                          ],
                          [
                            0.7777777777777778,
                            "#fb9f3a"
                          ],
                          [
                            0.8888888888888888,
                            "#fdca26"
                          ],
                          [
                            1,
                            "#f0f921"
                          ]
                        ],
                        "type": "surface"
                      }
                    ],
                    "table": [
                      {
                        "cells": {
                          "fill": {
                            "color": "#EBF0F8"
                          },
                          "line": {
                            "color": "white"
                          }
                        },
                        "header": {
                          "fill": {
                            "color": "#C8D4E3"
                          },
                          "line": {
                            "color": "white"
                          }
                        },
                        "type": "table"
                      }
                    ]
                  },
                  "layout": {
                    "annotationdefaults": {
                      "arrowcolor": "#2a3f5f",
                      "arrowhead": 0,
                      "arrowwidth": 1
                    },
                    "autotypenumbers": "strict",
                    "coloraxis": {
                      "colorbar": {
                        "outlinewidth": 0,
                        "ticks": ""
                      }
                    },
                    "colorscale": {
                      "diverging": [
                        [
                          0,
                          "#8e0152"
                        ],
                        [
                          0.1,
                          "#c51b7d"
                        ],
                        [
                          0.2,
                          "#de77ae"
                        ],
                        [
                          0.3,
                          "#f1b6da"
                        ],
                        [
                          0.4,
                          "#fde0ef"
                        ],
                        [
                          0.5,
                          "#f7f7f7"
                        ],
                        [
                          0.6,
                          "#e6f5d0"
                        ],
                        [
                          0.7,
                          "#b8e186"
                        ],
                        [
                          0.8,
                          "#7fbc41"
                        ],
                        [
                          0.9,
                          "#4d9221"
                        ],
                        [
                          1,
                          "#276419"
                        ]
                      ],
                      "sequential": [
                        [
                          0,
                          "#0d0887"
                        ],
                        [
                          0.1111111111111111,
                          "#46039f"
                        ],
                        [
                          0.2222222222222222,
                          "#7201a8"
                        ],
                        [
                          0.3333333333333333,
                          "#9c179e"
                        ],
                        [
                          0.4444444444444444,
                          "#bd3786"
                        ],
                        [
                          0.5555555555555556,
                          "#d8576b"
                        ],
                        [
                          0.6666666666666666,
                          "#ed7953"
                        ],
                        [
                          0.7777777777777778,
                          "#fb9f3a"
                        ],
                        [
                          0.8888888888888888,
                          "#fdca26"
                        ],
                        [
                          1,
                          "#f0f921"
                        ]
                      ],
                      "sequentialminus": [
                        [
                          0,
                          "#0d0887"
                        ],
                        [
                          0.1111111111111111,
                          "#46039f"
                        ],
                        [
                          0.2222222222222222,
                          "#7201a8"
                        ],
                        [
                          0.3333333333333333,
                          "#9c179e"
                        ],
                        [
                          0.4444444444444444,
                          "#bd3786"
                        ],
                        [
                          0.5555555555555556,
                          "#d8576b"
                        ],
                        [
                          0.6666666666666666,
                          "#ed7953"
                        ],
                        [
                          0.7777777777777778,
                          "#fb9f3a"
                        ],
                        [
                          0.8888888888888888,
                          "#fdca26"
                        ],
                        [
                          1,
                          "#f0f921"
                        ]
                      ]
                    },
                    "colorway": [
                      "#636efa",
                      "#EF553B",
                      "#00cc96",
                      "#ab63fa",
                      "#FFA15A",
                      "#19d3f3",
                      "#FF6692",
                      "#B6E880",
                      "#FF97FF",
                      "#FECB52"
                    ],
                    "font": {
                      "color": "#2a3f5f"
                    },
                    "geo": {
                      "bgcolor": "white",
                      "lakecolor": "white",
                      "landcolor": "#E5ECF6",
                      "showlakes": true,
                      "showland": true,
                      "subunitcolor": "white"
                    },
                    "hoverlabel": {
                      "align": "left"
                    },
                    "hovermode": "closest",
                    "mapbox": {
                      "style": "light"
                    },
                    "paper_bgcolor": "white",
                    "plot_bgcolor": "#E5ECF6",
                    "polar": {
                      "angularaxis": {
                        "gridcolor": "white",
                        "linecolor": "white",
                        "ticks": ""
                      },
                      "bgcolor": "#E5ECF6",
                      "radialaxis": {
                        "gridcolor": "white",
                        "linecolor": "white",
                        "ticks": ""
                      }
                    },
                    "scene": {
                      "xaxis": {
                        "backgroundcolor": "#E5ECF6",
                        "gridcolor": "white",
                        "gridwidth": 2,
                        "linecolor": "white",
                        "showbackground": true,
                        "ticks": "",
                        "zerolinecolor": "white"
                      },
                      "yaxis": {
                        "backgroundcolor": "#E5ECF6",
                        "gridcolor": "white",
                        "gridwidth": 2,
                        "linecolor": "white",
                        "showbackground": true,
                        "ticks": "",
                        "zerolinecolor": "white"
                      },
                      "zaxis": {
                        "backgroundcolor": "#E5ECF6",
                        "gridcolor": "white",
                        "gridwidth": 2,
                        "linecolor": "white",
                        "showbackground": true,
                        "ticks": "",
                        "zerolinecolor": "white"
                      }
                    },
                    "shapedefaults": {
                      "line": {
                        "color": "#2a3f5f"
                      }
                    },
                    "ternary": {
                      "aaxis": {
                        "gridcolor": "white",
                        "linecolor": "white",
                        "ticks": ""
                      },
                      "baxis": {
                        "gridcolor": "white",
                        "linecolor": "white",
                        "ticks": ""
                      },
                      "bgcolor": "#E5ECF6",
                      "caxis": {
                        "gridcolor": "white",
                        "linecolor": "white",
                        "ticks": ""
                      }
                    },
                    "title": {
                      "x": 0.05
                    },
                    "xaxis": {
                      "automargin": true,
                      "gridcolor": "white",
                      "linecolor": "white",
                      "ticks": "",
                      "title": {
                        "standoff": 15
                      },
                      "zerolinecolor": "white",
                      "zerolinewidth": 2
                    },
                    "yaxis": {
                      "automargin": true,
                      "gridcolor": "white",
                      "linecolor": "white",
                      "ticks": "",
                      "title": {
                        "standoff": 15
                      },
                      "zerolinecolor": "white",
                      "zerolinewidth": 2
                    }
                  }
                },
                "title": {
                  "text": "Income Distribution by Native Region(%)"
                },
                "xaxis": {
                  "anchor": "y",
                  "autorange": true,
                  "domain": [
                    0,
                    1
                  ],
                  "range": [
                    -0.5,
                    5.5
                  ],
                  "title": {
                    "text": "native_region"
                  },
                  "type": "category"
                },
                "yaxis": {
                  "anchor": "x",
                  "autorange": true,
                  "domain": [
                    0,
                    1
                  ],
                  "range": [
                    0,
                    93.61189232623545
                  ],
                  "title": {
                    "text": "percentage"
                  },
                  "type": "linear"
                }
              }
            },
            "image/png": "[encoded data removed]"
          },
          "metadata": {},
          "output_type": "display_data"
        }
      ],
      "source": [
        "fig= px.bar(\n",
        "    adult_df_income_native_region,\n",
        "    x = 'native_region',\n",
        "    y = 'percentage',\n",
        "    color= 'income',\n",
        "    title='Income Distribution by Native Region(%)',\n",
        "    barmode = 'group',\n",
        "    height=400,\n",
        "    text= 'percentage',\n",
        "    color_discrete_sequence=px.colors.sequential.RdBu,\n",
        ")\n",
        "fig.update_traces(texttemplate='%{text:.2f}%')\n",
        "fig.update_traces(textposition='outside')\n",
        "fig.show()\n",
        "fig.write_image(os.path.join(result_dir,'income_distribution_by_nativeregion_bar_plot.jpg'))\n",
        "fig.write_image(os.path.join(result_dir, 'income_distribution_by_nativeregion_bar_plot.png'))\n",
        "fig.write_html(os.path.join(result_dir, 'income_distribution_by_nativeregion_bar_plot.html'))\n"
      ]
    },
    {
      "cell_type": "markdown",
      "source": [
        "\n",
        "Asia (30.7%) and Europe (29.2%) have the highest proportions of high-income earners. This suggests these immigrant groups might be better integrated into high-paying professional roles, or may represent a more skilled migrant profile in the dataset. Central America (11.1%) and South America (12.1%) have the lowest proportions of >50K earners. With 24.2% of North Americans earning >50K, this serves as a middle-ground baseline. Interestingly, both Asian and European groups outperform the native-born population proportionally in high-income brackets. The 'Other' group sits around 25.1%, close to North America’s rate. This likely reflects a diverse mix of regions not explicitly listed.\n"
      ],
      "metadata": {
        "id": "2KZA4F2JWLic"
      }
    },
    {
      "cell_type": "code",
      "execution_count": null,
      "metadata": {
        "id": "yWNNg7LiUKNS",
        "outputId": "fcc0768c-b9ba-42de-d094-b7b8577d4ee1"
      },
      "outputs": [
        {
          "data": {
            "text/html": [
              "<div>\n",
              "<style scoped>\n",
              "    .dataframe tbody tr th:only-of-type {\n",
              "        vertical-align: middle;\n",
              "    }\n",
              "\n",
              "    .dataframe tbody tr th {\n",
              "        vertical-align: top;\n",
              "    }\n",
              "\n",
              "    .dataframe thead th {\n",
              "        text-align: right;\n",
              "    }\n",
              "</style>\n",
              "<table border=\"1\" class=\"dataframe\">\n",
              "  <thead>\n",
              "    <tr style=\"text-align: right;\">\n",
              "      <th></th>\n",
              "      <th>race</th>\n",
              "      <th>income</th>\n",
              "      <th>total_income_distr</th>\n",
              "    </tr>\n",
              "  </thead>\n",
              "  <tbody>\n",
              "    <tr>\n",
              "      <th>0</th>\n",
              "      <td>american indian or eskimo</td>\n",
              "      <td>&lt;=50k</td>\n",
              "      <td>275</td>\n",
              "    </tr>\n",
              "    <tr>\n",
              "      <th>1</th>\n",
              "      <td>american indian or eskimo</td>\n",
              "      <td>&gt;50k</td>\n",
              "      <td>36</td>\n",
              "    </tr>\n",
              "    <tr>\n",
              "      <th>2</th>\n",
              "      <td>asian or pacific islander</td>\n",
              "      <td>&lt;=50k</td>\n",
              "      <td>762</td>\n",
              "    </tr>\n",
              "    <tr>\n",
              "      <th>3</th>\n",
              "      <td>asian or pacific islander</td>\n",
              "      <td>&gt;50k</td>\n",
              "      <td>276</td>\n",
              "    </tr>\n",
              "    <tr>\n",
              "      <th>4</th>\n",
              "      <td>black</td>\n",
              "      <td>&lt;=50k</td>\n",
              "      <td>2735</td>\n",
              "    </tr>\n",
              "    <tr>\n",
              "      <th>5</th>\n",
              "      <td>black</td>\n",
              "      <td>&gt;50k</td>\n",
              "      <td>387</td>\n",
              "    </tr>\n",
              "    <tr>\n",
              "      <th>6</th>\n",
              "      <td>other</td>\n",
              "      <td>&lt;=50k</td>\n",
              "      <td>246</td>\n",
              "    </tr>\n",
              "    <tr>\n",
              "      <th>7</th>\n",
              "      <td>other</td>\n",
              "      <td>&gt;50k</td>\n",
              "      <td>25</td>\n",
              "    </tr>\n",
              "    <tr>\n",
              "      <th>8</th>\n",
              "      <td>white</td>\n",
              "      <td>&lt;=50k</td>\n",
              "      <td>20680</td>\n",
              "    </tr>\n",
              "    <tr>\n",
              "      <th>9</th>\n",
              "      <td>white</td>\n",
              "      <td>&gt;50k</td>\n",
              "      <td>7115</td>\n",
              "    </tr>\n",
              "  </tbody>\n",
              "</table>\n",
              "</div>"
            ],
            "text/plain": [
              "                        race income  total_income_distr\n",
              "0  american indian or eskimo  <=50k                 275\n",
              "1  american indian or eskimo   >50k                  36\n",
              "2  asian or pacific islander  <=50k                 762\n",
              "3  asian or pacific islander   >50k                 276\n",
              "4                      black  <=50k                2735\n",
              "5                      black   >50k                 387\n",
              "6                      other  <=50k                 246\n",
              "7                      other   >50k                  25\n",
              "8                      white  <=50k               20680\n",
              "9                      white   >50k                7115"
            ]
          },
          "execution_count": 91,
          "metadata": {},
          "output_type": "execute_result"
        }
      ],
      "source": [
        "adult_df_income_native_region = adult_df.groupby(['race', 'income']).size().reset_index(name='total_income_distr')\n",
        "adult_df_income_native_region"
      ]
    },
    {
      "cell_type": "code",
      "execution_count": null,
      "metadata": {
        "id": "4COm9XTxUKNS",
        "outputId": "746e3ba1-0aed-4554-db5e-132d45599e85"
      },
      "outputs": [
        {
          "data": {
            "text/html": [
              "<div>\n",
              "<style scoped>\n",
              "    .dataframe tbody tr th:only-of-type {\n",
              "        vertical-align: middle;\n",
              "    }\n",
              "\n",
              "    .dataframe tbody tr th {\n",
              "        vertical-align: top;\n",
              "    }\n",
              "\n",
              "    .dataframe thead th {\n",
              "        text-align: right;\n",
              "    }\n",
              "</style>\n",
              "<table border=\"1\" class=\"dataframe\">\n",
              "  <thead>\n",
              "    <tr style=\"text-align: right;\">\n",
              "      <th></th>\n",
              "      <th>race</th>\n",
              "      <th>income</th>\n",
              "      <th>total_income_distr</th>\n",
              "      <th>percentage</th>\n",
              "    </tr>\n",
              "  </thead>\n",
              "  <tbody>\n",
              "    <tr>\n",
              "      <th>0</th>\n",
              "      <td>american indian or eskimo</td>\n",
              "      <td>&lt;=50k</td>\n",
              "      <td>275</td>\n",
              "      <td>88.424437</td>\n",
              "    </tr>\n",
              "    <tr>\n",
              "      <th>1</th>\n",
              "      <td>american indian or eskimo</td>\n",
              "      <td>&gt;50k</td>\n",
              "      <td>36</td>\n",
              "      <td>11.575563</td>\n",
              "    </tr>\n",
              "    <tr>\n",
              "      <th>2</th>\n",
              "      <td>asian or pacific islander</td>\n",
              "      <td>&lt;=50k</td>\n",
              "      <td>762</td>\n",
              "      <td>73.410405</td>\n",
              "    </tr>\n",
              "    <tr>\n",
              "      <th>3</th>\n",
              "      <td>asian or pacific islander</td>\n",
              "      <td>&gt;50k</td>\n",
              "      <td>276</td>\n",
              "      <td>26.589595</td>\n",
              "    </tr>\n",
              "    <tr>\n",
              "      <th>4</th>\n",
              "      <td>black</td>\n",
              "      <td>&lt;=50k</td>\n",
              "      <td>2735</td>\n",
              "      <td>87.604100</td>\n",
              "    </tr>\n",
              "    <tr>\n",
              "      <th>5</th>\n",
              "      <td>black</td>\n",
              "      <td>&gt;50k</td>\n",
              "      <td>387</td>\n",
              "      <td>12.395900</td>\n",
              "    </tr>\n",
              "    <tr>\n",
              "      <th>6</th>\n",
              "      <td>other</td>\n",
              "      <td>&lt;=50k</td>\n",
              "      <td>246</td>\n",
              "      <td>90.774908</td>\n",
              "    </tr>\n",
              "    <tr>\n",
              "      <th>7</th>\n",
              "      <td>other</td>\n",
              "      <td>&gt;50k</td>\n",
              "      <td>25</td>\n",
              "      <td>9.225092</td>\n",
              "    </tr>\n",
              "    <tr>\n",
              "      <th>8</th>\n",
              "      <td>white</td>\n",
              "      <td>&lt;=50k</td>\n",
              "      <td>20680</td>\n",
              "      <td>74.401871</td>\n",
              "    </tr>\n",
              "    <tr>\n",
              "      <th>9</th>\n",
              "      <td>white</td>\n",
              "      <td>&gt;50k</td>\n",
              "      <td>7115</td>\n",
              "      <td>25.598129</td>\n",
              "    </tr>\n",
              "  </tbody>\n",
              "</table>\n",
              "</div>"
            ],
            "text/plain": [
              "                        race income  total_income_distr  percentage\n",
              "0  american indian or eskimo  <=50k                 275   88.424437\n",
              "1  american indian or eskimo   >50k                  36   11.575563\n",
              "2  asian or pacific islander  <=50k                 762   73.410405\n",
              "3  asian or pacific islander   >50k                 276   26.589595\n",
              "4                      black  <=50k                2735   87.604100\n",
              "5                      black   >50k                 387   12.395900\n",
              "6                      other  <=50k                 246   90.774908\n",
              "7                      other   >50k                  25    9.225092\n",
              "8                      white  <=50k               20680   74.401871\n",
              "9                      white   >50k                7115   25.598129"
            ]
          },
          "execution_count": 92,
          "metadata": {},
          "output_type": "execute_result"
        }
      ],
      "source": [
        "total_per_all=adult_df_income_native_region.groupby('race')['total_income_distr'].transform('sum')\n",
        "adult_df_income_native_region['percentage']=(adult_df_income_native_region['total_income_distr']/total_per_all)*100\n",
        "adult_df_income_native_region"
      ]
    },
    {
      "cell_type": "code",
      "execution_count": null,
      "metadata": {
        "id": "sflOsQY3UKNT",
        "outputId": "409878e1-05bf-4f94-f1c7-ecfa26b03e9e"
      },
      "outputs": [
        {
          "data": {
            "application/vnd.plotly.v1+json": {
              "config": {
                "plotlyServerURL": "https://plot.ly"
              },
              "data": [
                {
                  "alignmentgroup": "True",
                  "hovertemplate": "income=<=50k<br>race=%{x}<br>percentage=%{text}<extra></extra>",
                  "legendgroup": "<=50k",
                  "marker": {
                    "color": "rgb(103,0,31)",
                    "pattern": {
                      "shape": ""
                    }
                  },
                  "name": "<=50k",
                  "offsetgroup": "<=50k",
                  "orientation": "v",
                  "showlegend": true,
                  "text": {
                    "_inputArray": {
                      "0": 88.42443729903538,
                      "1": 73.41040462427746,
                      "2": 87.6040999359385,
                      "3": 90.7749077490775,
                      "4": 74.40187084007916,
                      "bdata": "z6MP+ykbVkCH2cERRFpSQMgXx5Kp5lVAHO2rFpixVkDJ1nhAuJlSQA==",
                      "dtype": "f8",
                      "shape": "5"
                    },
                    "bdata": "z6MP+ykbVkCH2cERRFpSQMgXx5Kp5lVAHO2rFpixVkDJ1nhAuJlSQA==",
                    "dtype": "f8"
                  },
                  "textposition": "outside",
                  "texttemplate": "%{text:.2f}%",
                  "type": "bar",
                  "x": [
                    "american indian or eskimo",
                    "asian or pacific islander",
                    "black",
                    "other",
                    "white"
                  ],
                  "xaxis": "x",
                  "y": {
                    "_inputArray": {
                      "0": 88.42443729903538,
                      "1": 73.41040462427746,
                      "2": 87.6040999359385,
                      "3": 90.7749077490775,
                      "4": 74.40187084007916,
                      "bdata": "z6MP+ykbVkCH2cERRFpSQMgXx5Kp5lVAHO2rFpixVkDJ1nhAuJlSQA==",
                      "dtype": "f8",
                      "shape": "5"
                    },
                    "bdata": "z6MP+ykbVkCH2cERRFpSQMgXx5Kp5lVAHO2rFpixVkDJ1nhAuJlSQA==",
                    "dtype": "f8"
                  },
                  "yaxis": "y"
                },
                {
                  "alignmentgroup": "True",
                  "hovertemplate": "income=>50k<br>race=%{x}<br>percentage=%{text}<extra></extra>",
                  "legendgroup": ">50k",
                  "marker": {
                    "color": "rgb(178,24,43)",
                    "pattern": {
                      "shape": ""
                    }
                  },
                  "name": ">50k",
                  "offsetgroup": ">50k",
                  "orientation": "v",
                  "showlegend": true,
                  "text": {
                    "_inputArray": {
                      "0": 11.57556270096463,
                      "1": 26.589595375722542,
                      "2": 12.395900064061498,
                      "3": 9.22509225092251,
                      "4": 25.598129159920852,
                      "bdata": "i+GCJ7AmJ0Dlmfi475Y6QMNBx2mzyihAJZegSj9zIkDepBz+Hpk5QA==",
                      "dtype": "f8",
                      "shape": "5"
                    },
                    "bdata": "i+GCJ7AmJ0Dlmfi475Y6QMNBx2mzyihAJZegSj9zIkDepBz+Hpk5QA==",
                    "dtype": "f8"
                  },
                  "textposition": "outside",
                  "texttemplate": "%{text:.2f}%",
                  "type": "bar",
                  "x": [
                    "american indian or eskimo",
                    "asian or pacific islander",
                    "black",
                    "other",
                    "white"
                  ],
                  "xaxis": "x",
                  "y": {
                    "_inputArray": {
                      "0": 11.57556270096463,
                      "1": 26.589595375722542,
                      "2": 12.395900064061498,
                      "3": 9.22509225092251,
                      "4": 25.598129159920852,
                      "bdata": "i+GCJ7AmJ0Dlmfi475Y6QMNBx2mzyihAJZegSj9zIkDepBz+Hpk5QA==",
                      "dtype": "f8",
                      "shape": "5"
                    },
                    "bdata": "i+GCJ7AmJ0Dlmfi475Y6QMNBx2mzyihAJZegSj9zIkDepBz+Hpk5QA==",
                    "dtype": "f8"
                  },
                  "yaxis": "y"
                }
              ],
              "layout": {
                "autosize": true,
                "barmode": "group",
                "legend": {
                  "title": {
                    "text": "income"
                  },
                  "tracegroupgap": 0
                },
                "template": {
                  "data": {
                    "bar": [
                      {
                        "error_x": {
                          "color": "#2a3f5f"
                        },
                        "error_y": {
                          "color": "#2a3f5f"
                        },
                        "marker": {
                          "line": {
                            "color": "#E5ECF6",
                            "width": 0.5
                          },
                          "pattern": {
                            "fillmode": "overlay",
                            "size": 10,
                            "solidity": 0.2
                          }
                        },
                        "type": "bar"
                      }
                    ],
                    "barpolar": [
                      {
                        "marker": {
                          "line": {
                            "color": "#E5ECF6",
                            "width": 0.5
                          },
                          "pattern": {
                            "fillmode": "overlay",
                            "size": 10,
                            "solidity": 0.2
                          }
                        },
                        "type": "barpolar"
                      }
                    ],
                    "carpet": [
                      {
                        "aaxis": {
                          "endlinecolor": "#2a3f5f",
                          "gridcolor": "white",
                          "linecolor": "white",
                          "minorgridcolor": "white",
                          "startlinecolor": "#2a3f5f"
                        },
                        "baxis": {
                          "endlinecolor": "#2a3f5f",
                          "gridcolor": "white",
                          "linecolor": "white",
                          "minorgridcolor": "white",
                          "startlinecolor": "#2a3f5f"
                        },
                        "type": "carpet"
                      }
                    ],
                    "choropleth": [
                      {
                        "colorbar": {
                          "outlinewidth": 0,
                          "ticks": ""
                        },
                        "type": "choropleth"
                      }
                    ],
                    "contour": [
                      {
                        "colorbar": {
                          "outlinewidth": 0,
                          "ticks": ""
                        },
                        "colorscale": [
                          [
                            0,
                            "#0d0887"
                          ],
                          [
                            0.1111111111111111,
                            "#46039f"
                          ],
                          [
                            0.2222222222222222,
                            "#7201a8"
                          ],
                          [
                            0.3333333333333333,
                            "#9c179e"
                          ],
                          [
                            0.4444444444444444,
                            "#bd3786"
                          ],
                          [
                            0.5555555555555556,
                            "#d8576b"
                          ],
                          [
                            0.6666666666666666,
                            "#ed7953"
                          ],
                          [
                            0.7777777777777778,
                            "#fb9f3a"
                          ],
                          [
                            0.8888888888888888,
                            "#fdca26"
                          ],
                          [
                            1,
                            "#f0f921"
                          ]
                        ],
                        "type": "contour"
                      }
                    ],
                    "contourcarpet": [
                      {
                        "colorbar": {
                          "outlinewidth": 0,
                          "ticks": ""
                        },
                        "type": "contourcarpet"
                      }
                    ],
                    "heatmap": [
                      {
                        "colorbar": {
                          "outlinewidth": 0,
                          "ticks": ""
                        },
                        "colorscale": [
                          [
                            0,
                            "#0d0887"
                          ],
                          [
                            0.1111111111111111,
                            "#46039f"
                          ],
                          [
                            0.2222222222222222,
                            "#7201a8"
                          ],
                          [
                            0.3333333333333333,
                            "#9c179e"
                          ],
                          [
                            0.4444444444444444,
                            "#bd3786"
                          ],
                          [
                            0.5555555555555556,
                            "#d8576b"
                          ],
                          [
                            0.6666666666666666,
                            "#ed7953"
                          ],
                          [
                            0.7777777777777778,
                            "#fb9f3a"
                          ],
                          [
                            0.8888888888888888,
                            "#fdca26"
                          ],
                          [
                            1,
                            "#f0f921"
                          ]
                        ],
                        "type": "heatmap"
                      }
                    ],
                    "histogram": [
                      {
                        "marker": {
                          "pattern": {
                            "fillmode": "overlay",
                            "size": 10,
                            "solidity": 0.2
                          }
                        },
                        "type": "histogram"
                      }
                    ],
                    "histogram2d": [
                      {
                        "colorbar": {
                          "outlinewidth": 0,
                          "ticks": ""
                        },
                        "colorscale": [
                          [
                            0,
                            "#0d0887"
                          ],
                          [
                            0.1111111111111111,
                            "#46039f"
                          ],
                          [
                            0.2222222222222222,
                            "#7201a8"
                          ],
                          [
                            0.3333333333333333,
                            "#9c179e"
                          ],
                          [
                            0.4444444444444444,
                            "#bd3786"
                          ],
                          [
                            0.5555555555555556,
                            "#d8576b"
                          ],
                          [
                            0.6666666666666666,
                            "#ed7953"
                          ],
                          [
                            0.7777777777777778,
                            "#fb9f3a"
                          ],
                          [
                            0.8888888888888888,
                            "#fdca26"
                          ],
                          [
                            1,
                            "#f0f921"
                          ]
                        ],
                        "type": "histogram2d"
                      }
                    ],
                    "histogram2dcontour": [
                      {
                        "colorbar": {
                          "outlinewidth": 0,
                          "ticks": ""
                        },
                        "colorscale": [
                          [
                            0,
                            "#0d0887"
                          ],
                          [
                            0.1111111111111111,
                            "#46039f"
                          ],
                          [
                            0.2222222222222222,
                            "#7201a8"
                          ],
                          [
                            0.3333333333333333,
                            "#9c179e"
                          ],
                          [
                            0.4444444444444444,
                            "#bd3786"
                          ],
                          [
                            0.5555555555555556,
                            "#d8576b"
                          ],
                          [
                            0.6666666666666666,
                            "#ed7953"
                          ],
                          [
                            0.7777777777777778,
                            "#fb9f3a"
                          ],
                          [
                            0.8888888888888888,
                            "#fdca26"
                          ],
                          [
                            1,
                            "#f0f921"
                          ]
                        ],
                        "type": "histogram2dcontour"
                      }
                    ],
                    "mesh3d": [
                      {
                        "colorbar": {
                          "outlinewidth": 0,
                          "ticks": ""
                        },
                        "type": "mesh3d"
                      }
                    ],
                    "parcoords": [
                      {
                        "line": {
                          "colorbar": {
                            "outlinewidth": 0,
                            "ticks": ""
                          }
                        },
                        "type": "parcoords"
                      }
                    ],
                    "pie": [
                      {
                        "automargin": true,
                        "type": "pie"
                      }
                    ],
                    "scatter": [
                      {
                        "fillpattern": {
                          "fillmode": "overlay",
                          "size": 10,
                          "solidity": 0.2
                        },
                        "type": "scatter"
                      }
                    ],
                    "scatter3d": [
                      {
                        "line": {
                          "colorbar": {
                            "outlinewidth": 0,
                            "ticks": ""
                          }
                        },
                        "marker": {
                          "colorbar": {
                            "outlinewidth": 0,
                            "ticks": ""
                          }
                        },
                        "type": "scatter3d"
                      }
                    ],
                    "scattercarpet": [
                      {
                        "marker": {
                          "colorbar": {
                            "outlinewidth": 0,
                            "ticks": ""
                          }
                        },
                        "type": "scattercarpet"
                      }
                    ],
                    "scattergeo": [
                      {
                        "marker": {
                          "colorbar": {
                            "outlinewidth": 0,
                            "ticks": ""
                          }
                        },
                        "type": "scattergeo"
                      }
                    ],
                    "scattergl": [
                      {
                        "marker": {
                          "colorbar": {
                            "outlinewidth": 0,
                            "ticks": ""
                          }
                        },
                        "type": "scattergl"
                      }
                    ],
                    "scattermap": [
                      {
                        "marker": {
                          "colorbar": {
                            "outlinewidth": 0,
                            "ticks": ""
                          }
                        },
                        "type": "scattermap"
                      }
                    ],
                    "scattermapbox": [
                      {
                        "marker": {
                          "colorbar": {
                            "outlinewidth": 0,
                            "ticks": ""
                          }
                        },
                        "type": "scattermapbox"
                      }
                    ],
                    "scatterpolar": [
                      {
                        "marker": {
                          "colorbar": {
                            "outlinewidth": 0,
                            "ticks": ""
                          }
                        },
                        "type": "scatterpolar"
                      }
                    ],
                    "scatterpolargl": [
                      {
                        "marker": {
                          "colorbar": {
                            "outlinewidth": 0,
                            "ticks": ""
                          }
                        },
                        "type": "scatterpolargl"
                      }
                    ],
                    "scatterternary": [
                      {
                        "marker": {
                          "colorbar": {
                            "outlinewidth": 0,
                            "ticks": ""
                          }
                        },
                        "type": "scatterternary"
                      }
                    ],
                    "surface": [
                      {
                        "colorbar": {
                          "outlinewidth": 0,
                          "ticks": ""
                        },
                        "colorscale": [
                          [
                            0,
                            "#0d0887"
                          ],
                          [
                            0.1111111111111111,
                            "#46039f"
                          ],
                          [
                            0.2222222222222222,
                            "#7201a8"
                          ],
                          [
                            0.3333333333333333,
                            "#9c179e"
                          ],
                          [
                            0.4444444444444444,
                            "#bd3786"
                          ],
                          [
                            0.5555555555555556,
                            "#d8576b"
                          ],
                          [
                            0.6666666666666666,
                            "#ed7953"
                          ],
                          [
                            0.7777777777777778,
                            "#fb9f3a"
                          ],
                          [
                            0.8888888888888888,
                            "#fdca26"
                          ],
                          [
                            1,
                            "#f0f921"
                          ]
                        ],
                        "type": "surface"
                      }
                    ],
                    "table": [
                      {
                        "cells": {
                          "fill": {
                            "color": "#EBF0F8"
                          },
                          "line": {
                            "color": "white"
                          }
                        },
                        "header": {
                          "fill": {
                            "color": "#C8D4E3"
                          },
                          "line": {
                            "color": "white"
                          }
                        },
                        "type": "table"
                      }
                    ]
                  },
                  "layout": {
                    "annotationdefaults": {
                      "arrowcolor": "#2a3f5f",
                      "arrowhead": 0,
                      "arrowwidth": 1
                    },
                    "autotypenumbers": "strict",
                    "coloraxis": {
                      "colorbar": {
                        "outlinewidth": 0,
                        "ticks": ""
                      }
                    },
                    "colorscale": {
                      "diverging": [
                        [
                          0,
                          "#8e0152"
                        ],
                        [
                          0.1,
                          "#c51b7d"
                        ],
                        [
                          0.2,
                          "#de77ae"
                        ],
                        [
                          0.3,
                          "#f1b6da"
                        ],
                        [
                          0.4,
                          "#fde0ef"
                        ],
                        [
                          0.5,
                          "#f7f7f7"
                        ],
                        [
                          0.6,
                          "#e6f5d0"
                        ],
                        [
                          0.7,
                          "#b8e186"
                        ],
                        [
                          0.8,
                          "#7fbc41"
                        ],
                        [
                          0.9,
                          "#4d9221"
                        ],
                        [
                          1,
                          "#276419"
                        ]
                      ],
                      "sequential": [
                        [
                          0,
                          "#0d0887"
                        ],
                        [
                          0.1111111111111111,
                          "#46039f"
                        ],
                        [
                          0.2222222222222222,
                          "#7201a8"
                        ],
                        [
                          0.3333333333333333,
                          "#9c179e"
                        ],
                        [
                          0.4444444444444444,
                          "#bd3786"
                        ],
                        [
                          0.5555555555555556,
                          "#d8576b"
                        ],
                        [
                          0.6666666666666666,
                          "#ed7953"
                        ],
                        [
                          0.7777777777777778,
                          "#fb9f3a"
                        ],
                        [
                          0.8888888888888888,
                          "#fdca26"
                        ],
                        [
                          1,
                          "#f0f921"
                        ]
                      ],
                      "sequentialminus": [
                        [
                          0,
                          "#0d0887"
                        ],
                        [
                          0.1111111111111111,
                          "#46039f"
                        ],
                        [
                          0.2222222222222222,
                          "#7201a8"
                        ],
                        [
                          0.3333333333333333,
                          "#9c179e"
                        ],
                        [
                          0.4444444444444444,
                          "#bd3786"
                        ],
                        [
                          0.5555555555555556,
                          "#d8576b"
                        ],
                        [
                          0.6666666666666666,
                          "#ed7953"
                        ],
                        [
                          0.7777777777777778,
                          "#fb9f3a"
                        ],
                        [
                          0.8888888888888888,
                          "#fdca26"
                        ],
                        [
                          1,
                          "#f0f921"
                        ]
                      ]
                    },
                    "colorway": [
                      "#636efa",
                      "#EF553B",
                      "#00cc96",
                      "#ab63fa",
                      "#FFA15A",
                      "#19d3f3",
                      "#FF6692",
                      "#B6E880",
                      "#FF97FF",
                      "#FECB52"
                    ],
                    "font": {
                      "color": "#2a3f5f"
                    },
                    "geo": {
                      "bgcolor": "white",
                      "lakecolor": "white",
                      "landcolor": "#E5ECF6",
                      "showlakes": true,
                      "showland": true,
                      "subunitcolor": "white"
                    },
                    "hoverlabel": {
                      "align": "left"
                    },
                    "hovermode": "closest",
                    "mapbox": {
                      "style": "light"
                    },
                    "paper_bgcolor": "white",
                    "plot_bgcolor": "#E5ECF6",
                    "polar": {
                      "angularaxis": {
                        "gridcolor": "white",
                        "linecolor": "white",
                        "ticks": ""
                      },
                      "bgcolor": "#E5ECF6",
                      "radialaxis": {
                        "gridcolor": "white",
                        "linecolor": "white",
                        "ticks": ""
                      }
                    },
                    "scene": {
                      "xaxis": {
                        "backgroundcolor": "#E5ECF6",
                        "gridcolor": "white",
                        "gridwidth": 2,
                        "linecolor": "white",
                        "showbackground": true,
                        "ticks": "",
                        "zerolinecolor": "white"
                      },
                      "yaxis": {
                        "backgroundcolor": "#E5ECF6",
                        "gridcolor": "white",
                        "gridwidth": 2,
                        "linecolor": "white",
                        "showbackground": true,
                        "ticks": "",
                        "zerolinecolor": "white"
                      },
                      "zaxis": {
                        "backgroundcolor": "#E5ECF6",
                        "gridcolor": "white",
                        "gridwidth": 2,
                        "linecolor": "white",
                        "showbackground": true,
                        "ticks": "",
                        "zerolinecolor": "white"
                      }
                    },
                    "shapedefaults": {
                      "line": {
                        "color": "#2a3f5f"
                      }
                    },
                    "ternary": {
                      "aaxis": {
                        "gridcolor": "white",
                        "linecolor": "white",
                        "ticks": ""
                      },
                      "baxis": {
                        "gridcolor": "white",
                        "linecolor": "white",
                        "ticks": ""
                      },
                      "bgcolor": "#E5ECF6",
                      "caxis": {
                        "gridcolor": "white",
                        "linecolor": "white",
                        "ticks": ""
                      }
                    },
                    "title": {
                      "x": 0.05
                    },
                    "xaxis": {
                      "automargin": true,
                      "gridcolor": "white",
                      "linecolor": "white",
                      "ticks": "",
                      "title": {
                        "standoff": 15
                      },
                      "zerolinecolor": "white",
                      "zerolinewidth": 2
                    },
                    "yaxis": {
                      "automargin": true,
                      "gridcolor": "white",
                      "linecolor": "white",
                      "ticks": "",
                      "title": {
                        "standoff": 15
                      },
                      "zerolinecolor": "white",
                      "zerolinewidth": 2
                    }
                  }
                },
                "title": {
                  "text": "Income Distribution by race(%)"
                },
                "xaxis": {
                  "anchor": "y",
                  "autorange": true,
                  "domain": [
                    0,
                    1
                  ],
                  "range": [
                    -0.5,
                    4.5
                  ],
                  "title": {
                    "text": "race"
                  },
                  "type": "category"
                },
                "yaxis": {
                  "anchor": "x",
                  "autorange": true,
                  "domain": [
                    0,
                    1
                  ],
                  "range": [
                    0,
                    95.55253447271316
                  ],
                  "title": {
                    "text": "percentage"
                  },
                  "type": "linear"
                }
              }
            },
            "image/png": "[encoded data removed]"
          },
          "metadata": {},
          "output_type": "display_data"
        }
      ],
      "source": [
        "fig= px.bar(\n",
        "    adult_df_income_native_region,\n",
        "    x = 'race',\n",
        "    y = 'percentage',\n",
        "    color= 'income',\n",
        "    title='Income Distribution by race(%)',\n",
        "    barmode = 'group',\n",
        "    height=600,\n",
        "    text= 'percentage',\n",
        "    color_discrete_sequence=px.colors.sequential.RdBu,\n",
        ")\n",
        "fig.update_traces(texttemplate='%{text:.2f}%')\n",
        "fig.update_traces(textposition='outside')\n",
        "fig.show()\n",
        "fig.write_image(os.path.join(result_dir,'income_distribution_by_incomegroup_bar_plot.jpg'))\n",
        "fig.write_image(os.path.join(result_dir, 'income_distribution_by_incomegroup_bar_plot.png'))\n",
        "fig.write_html(os.path.join(result_dir, 'income_distribution_byincomegroup_bar_plot.html'))\n",
        ""
      ]
    },
    {
      "cell_type": "markdown",
      "source": [
        "\n",
        "Asian or Pacific Islander (26.6%) and White (25.6%) populations have the highest proportions of >50K earners. Asians/Pacific Islanders marginally outperform Whites, a pattern often attributed to occupational concentration in high-paying sectors like technology and medicine. On the other hand, American Indian or Eskimo (11.6%), Black (12.4%), and Other (9.2%) groups show significantly lower rates of high-income earners. These figures reflect long-standing economic disparities rooted in historical exclusion, occupational segregation, and systemic inequality.\n",
        "\n",
        "The stark differences in high-income proportions:\n",
        "\n",
        "- **Between Whites and Blacks**: 25.6% vs 12.4% — slightly over double the proportion.\n",
        "- **Between Asians and Others**: 26.6% vs 9.2% — nearly triple.\n",
        "\n",
        "These disparities are consistent with well-documented wage gaps and underrepresentation of marginalized groups in higher-paying roles.\n"
      ],
      "metadata": {
        "id": "UZNLSzR5WV2d"
      }
    },
    {
      "cell_type": "code",
      "execution_count": null,
      "metadata": {
        "id": "3_k7j2jGUKNT",
        "outputId": "feb08c7f-de6a-4ce5-de6e-25621d606b57"
      },
      "outputs": [
        {
          "data": {
            "text/html": [
              "<div>\n",
              "<style scoped>\n",
              "    .dataframe tbody tr th:only-of-type {\n",
              "        vertical-align: middle;\n",
              "    }\n",
              "\n",
              "    .dataframe tbody tr th {\n",
              "        vertical-align: top;\n",
              "    }\n",
              "\n",
              "    .dataframe thead th {\n",
              "        text-align: right;\n",
              "    }\n",
              "</style>\n",
              "<table border=\"1\" class=\"dataframe\">\n",
              "  <thead>\n",
              "    <tr style=\"text-align: right;\">\n",
              "      <th></th>\n",
              "      <th>education_level</th>\n",
              "      <th>occupation_grouped</th>\n",
              "      <th>income</th>\n",
              "      <th>total</th>\n",
              "    </tr>\n",
              "  </thead>\n",
              "  <tbody>\n",
              "    <tr>\n",
              "      <th>5</th>\n",
              "      <td>high school graduate</td>\n",
              "      <td>blue collar</td>\n",
              "      <td>&lt;=50k</td>\n",
              "      <td>5209</td>\n",
              "    </tr>\n",
              "    <tr>\n",
              "      <th>19</th>\n",
              "      <td>secondary</td>\n",
              "      <td>blue collar</td>\n",
              "      <td>&lt;=50k</td>\n",
              "      <td>3849</td>\n",
              "    </tr>\n",
              "    <tr>\n",
              "      <th>23</th>\n",
              "      <td>secondary</td>\n",
              "      <td>white collar</td>\n",
              "      <td>&lt;=50k</td>\n",
              "      <td>3652</td>\n",
              "    </tr>\n",
              "    <tr>\n",
              "      <th>31</th>\n",
              "      <td>tertiary</td>\n",
              "      <td>white collar</td>\n",
              "      <td>&lt;=50k</td>\n",
              "      <td>3293</td>\n",
              "    </tr>\n",
              "    <tr>\n",
              "      <th>32</th>\n",
              "      <td>tertiary</td>\n",
              "      <td>white collar</td>\n",
              "      <td>&gt;50k</td>\n",
              "      <td>3205</td>\n",
              "    </tr>\n",
              "    <tr>\n",
              "      <th>9</th>\n",
              "      <td>high school graduate</td>\n",
              "      <td>white collar</td>\n",
              "      <td>&lt;=50k</td>\n",
              "      <td>3070</td>\n",
              "    </tr>\n",
              "    <tr>\n",
              "      <th>14</th>\n",
              "      <td>primary</td>\n",
              "      <td>blue collar</td>\n",
              "      <td>&lt;=50k</td>\n",
              "      <td>1201</td>\n",
              "    </tr>\n",
              "    <tr>\n",
              "      <th>24</th>\n",
              "      <td>secondary</td>\n",
              "      <td>white collar</td>\n",
              "      <td>&gt;50k</td>\n",
              "      <td>972</td>\n",
              "    </tr>\n",
              "    <tr>\n",
              "      <th>6</th>\n",
              "      <td>high school graduate</td>\n",
              "      <td>blue collar</td>\n",
              "      <td>&gt;50k</td>\n",
              "      <td>850</td>\n",
              "    </tr>\n",
              "    <tr>\n",
              "      <th>10</th>\n",
              "      <td>high school graduate</td>\n",
              "      <td>white collar</td>\n",
              "      <td>&gt;50k</td>\n",
              "      <td>778</td>\n",
              "    </tr>\n",
              "    <tr>\n",
              "      <th>3</th>\n",
              "      <td>associates</td>\n",
              "      <td>white collar</td>\n",
              "      <td>&lt;=50k</td>\n",
              "      <td>545</td>\n",
              "    </tr>\n",
              "    <tr>\n",
              "      <th>25</th>\n",
              "      <td>tertiary</td>\n",
              "      <td>blue collar</td>\n",
              "      <td>&lt;=50k</td>\n",
              "      <td>539</td>\n",
              "    </tr>\n",
              "    <tr>\n",
              "      <th>20</th>\n",
              "      <td>secondary</td>\n",
              "      <td>blue collar</td>\n",
              "      <td>&gt;50k</td>\n",
              "      <td>530</td>\n",
              "    </tr>\n",
              "    <tr>\n",
              "      <th>0</th>\n",
              "      <td>associates</td>\n",
              "      <td>blue collar</td>\n",
              "      <td>&lt;=50k</td>\n",
              "      <td>424</td>\n",
              "    </tr>\n",
              "    <tr>\n",
              "      <th>4</th>\n",
              "      <td>associates</td>\n",
              "      <td>white collar</td>\n",
              "      <td>&gt;50k</td>\n",
              "      <td>222</td>\n",
              "    </tr>\n",
              "    <tr>\n",
              "      <th>26</th>\n",
              "      <td>tertiary</td>\n",
              "      <td>blue collar</td>\n",
              "      <td>&gt;50k</td>\n",
              "      <td>205</td>\n",
              "    </tr>\n",
              "    <tr>\n",
              "      <th>17</th>\n",
              "      <td>primary</td>\n",
              "      <td>white collar</td>\n",
              "      <td>&lt;=50k</td>\n",
              "      <td>165</td>\n",
              "    </tr>\n",
              "    <tr>\n",
              "      <th>1</th>\n",
              "      <td>associates</td>\n",
              "      <td>blue collar</td>\n",
              "      <td>&gt;50k</td>\n",
              "      <td>126</td>\n",
              "    </tr>\n",
              "    <tr>\n",
              "      <th>15</th>\n",
              "      <td>primary</td>\n",
              "      <td>blue collar</td>\n",
              "      <td>&gt;50k</td>\n",
              "      <td>60</td>\n",
              "    </tr>\n",
              "    <tr>\n",
              "      <th>8</th>\n",
              "      <td>high school graduate</td>\n",
              "      <td>srvice</td>\n",
              "      <td>&lt;=50k</td>\n",
              "      <td>50</td>\n",
              "    </tr>\n",
              "    <tr>\n",
              "      <th>16</th>\n",
              "      <td>primary</td>\n",
              "      <td>srvice</td>\n",
              "      <td>&lt;=50k</td>\n",
              "      <td>41</td>\n",
              "    </tr>\n",
              "    <tr>\n",
              "      <th>22</th>\n",
              "      <td>secondary</td>\n",
              "      <td>srvice</td>\n",
              "      <td>&lt;=50k</td>\n",
              "      <td>40</td>\n",
              "    </tr>\n",
              "    <tr>\n",
              "      <th>11</th>\n",
              "      <td>preschool</td>\n",
              "      <td>blue collar</td>\n",
              "      <td>&lt;=50k</td>\n",
              "      <td>40</td>\n",
              "    </tr>\n",
              "    <tr>\n",
              "      <th>18</th>\n",
              "      <td>primary</td>\n",
              "      <td>white collar</td>\n",
              "      <td>&gt;50k</td>\n",
              "      <td>24</td>\n",
              "    </tr>\n",
              "    <tr>\n",
              "      <th>29</th>\n",
              "      <td>tertiary</td>\n",
              "      <td>srvice</td>\n",
              "      <td>&lt;=50k</td>\n",
              "      <td>7</td>\n",
              "    </tr>\n",
              "    <tr>\n",
              "      <th>7</th>\n",
              "      <td>high school graduate</td>\n",
              "      <td>military</td>\n",
              "      <td>&lt;=50k</td>\n",
              "      <td>4</td>\n",
              "    </tr>\n",
              "    <tr>\n",
              "      <th>2</th>\n",
              "      <td>associates</td>\n",
              "      <td>srvice</td>\n",
              "      <td>&lt;=50k</td>\n",
              "      <td>4</td>\n",
              "    </tr>\n",
              "    <tr>\n",
              "      <th>21</th>\n",
              "      <td>secondary</td>\n",
              "      <td>military</td>\n",
              "      <td>&lt;=50k</td>\n",
              "      <td>3</td>\n",
              "    </tr>\n",
              "    <tr>\n",
              "      <th>13</th>\n",
              "      <td>preschool</td>\n",
              "      <td>white collar</td>\n",
              "      <td>&lt;=50k</td>\n",
              "      <td>3</td>\n",
              "    </tr>\n",
              "    <tr>\n",
              "      <th>12</th>\n",
              "      <td>preschool</td>\n",
              "      <td>srvice</td>\n",
              "      <td>&lt;=50k</td>\n",
              "      <td>2</td>\n",
              "    </tr>\n",
              "    <tr>\n",
              "      <th>27</th>\n",
              "      <td>tertiary</td>\n",
              "      <td>military</td>\n",
              "      <td>&lt;=50k</td>\n",
              "      <td>1</td>\n",
              "    </tr>\n",
              "    <tr>\n",
              "      <th>28</th>\n",
              "      <td>tertiary</td>\n",
              "      <td>military</td>\n",
              "      <td>&gt;50k</td>\n",
              "      <td>1</td>\n",
              "    </tr>\n",
              "    <tr>\n",
              "      <th>30</th>\n",
              "      <td>tertiary</td>\n",
              "      <td>srvice</td>\n",
              "      <td>&gt;50k</td>\n",
              "      <td>1</td>\n",
              "    </tr>\n",
              "  </tbody>\n",
              "</table>\n",
              "</div>"
            ],
            "text/plain": [
              "         education_level occupation_grouped income  total\n",
              "5   high school graduate        blue collar  <=50k   5209\n",
              "19             secondary        blue collar  <=50k   3849\n",
              "23             secondary       white collar  <=50k   3652\n",
              "31              tertiary       white collar  <=50k   3293\n",
              "32              tertiary       white collar   >50k   3205\n",
              "9   high school graduate       white collar  <=50k   3070\n",
              "14               primary        blue collar  <=50k   1201\n",
              "24             secondary       white collar   >50k    972\n",
              "6   high school graduate        blue collar   >50k    850\n",
              "10  high school graduate       white collar   >50k    778\n",
              "3             associates       white collar  <=50k    545\n",
              "25              tertiary        blue collar  <=50k    539\n",
              "20             secondary        blue collar   >50k    530\n",
              "0             associates        blue collar  <=50k    424\n",
              "4             associates       white collar   >50k    222\n",
              "26              tertiary        blue collar   >50k    205\n",
              "17               primary       white collar  <=50k    165\n",
              "1             associates        blue collar   >50k    126\n",
              "15               primary        blue collar   >50k     60\n",
              "8   high school graduate             srvice  <=50k     50\n",
              "16               primary             srvice  <=50k     41\n",
              "22             secondary             srvice  <=50k     40\n",
              "11             preschool        blue collar  <=50k     40\n",
              "18               primary       white collar   >50k     24\n",
              "29              tertiary             srvice  <=50k      7\n",
              "7   high school graduate           military  <=50k      4\n",
              "2             associates             srvice  <=50k      4\n",
              "21             secondary           military  <=50k      3\n",
              "13             preschool       white collar  <=50k      3\n",
              "12             preschool             srvice  <=50k      2\n",
              "27              tertiary           military  <=50k      1\n",
              "28              tertiary           military   >50k      1\n",
              "30              tertiary             srvice   >50k      1"
            ]
          },
          "execution_count": 94,
          "metadata": {},
          "output_type": "execute_result"
        }
      ],
      "source": [
        "adult_df_income_edu_occ = adult_df.groupby(['education_level', 'occupation_grouped','income']).size().reset_index(name='total').sort_values('total',ascending=False)\n",
        "adult_df_income_edu_occ"
      ]
    },
    {
      "cell_type": "markdown",
      "source": [
        "##Income by Education Level and Occupation Group"
      ],
      "metadata": {
        "id": "wyrbnloRXl69"
      }
    },
    {
      "cell_type": "code",
      "execution_count": null,
      "metadata": {
        "id": "qmmzws4tUKNT",
        "outputId": "67b128f8-cdee-45e9-c36e-9b0829b064c7"
      },
      "outputs": [
        {
          "data": {
            "text/html": [
              "<div>\n",
              "<style scoped>\n",
              "    .dataframe tbody tr th:only-of-type {\n",
              "        vertical-align: middle;\n",
              "    }\n",
              "\n",
              "    .dataframe tbody tr th {\n",
              "        vertical-align: top;\n",
              "    }\n",
              "\n",
              "    .dataframe thead th {\n",
              "        text-align: right;\n",
              "    }\n",
              "</style>\n",
              "<table border=\"1\" class=\"dataframe\">\n",
              "  <thead>\n",
              "    <tr style=\"text-align: right;\">\n",
              "      <th></th>\n",
              "      <th>education_level</th>\n",
              "      <th>occupation_grouped</th>\n",
              "      <th>income</th>\n",
              "      <th>total</th>\n",
              "      <th>edu_occ</th>\n",
              "    </tr>\n",
              "  </thead>\n",
              "  <tbody>\n",
              "    <tr>\n",
              "      <th>5</th>\n",
              "      <td>high school graduate</td>\n",
              "      <td>blue collar</td>\n",
              "      <td>&lt;=50k</td>\n",
              "      <td>5209</td>\n",
              "      <td>high school graduate | blue collar</td>\n",
              "    </tr>\n",
              "    <tr>\n",
              "      <th>19</th>\n",
              "      <td>secondary</td>\n",
              "      <td>blue collar</td>\n",
              "      <td>&lt;=50k</td>\n",
              "      <td>3849</td>\n",
              "      <td>secondary | blue collar</td>\n",
              "    </tr>\n",
              "    <tr>\n",
              "      <th>23</th>\n",
              "      <td>secondary</td>\n",
              "      <td>white collar</td>\n",
              "      <td>&lt;=50k</td>\n",
              "      <td>3652</td>\n",
              "      <td>secondary | white collar</td>\n",
              "    </tr>\n",
              "    <tr>\n",
              "      <th>31</th>\n",
              "      <td>tertiary</td>\n",
              "      <td>white collar</td>\n",
              "      <td>&lt;=50k</td>\n",
              "      <td>3293</td>\n",
              "      <td>tertiary | white collar</td>\n",
              "    </tr>\n",
              "    <tr>\n",
              "      <th>32</th>\n",
              "      <td>tertiary</td>\n",
              "      <td>white collar</td>\n",
              "      <td>&gt;50k</td>\n",
              "      <td>3205</td>\n",
              "      <td>tertiary | white collar</td>\n",
              "    </tr>\n",
              "    <tr>\n",
              "      <th>9</th>\n",
              "      <td>high school graduate</td>\n",
              "      <td>white collar</td>\n",
              "      <td>&lt;=50k</td>\n",
              "      <td>3070</td>\n",
              "      <td>high school graduate | white collar</td>\n",
              "    </tr>\n",
              "    <tr>\n",
              "      <th>14</th>\n",
              "      <td>primary</td>\n",
              "      <td>blue collar</td>\n",
              "      <td>&lt;=50k</td>\n",
              "      <td>1201</td>\n",
              "      <td>primary | blue collar</td>\n",
              "    </tr>\n",
              "    <tr>\n",
              "      <th>24</th>\n",
              "      <td>secondary</td>\n",
              "      <td>white collar</td>\n",
              "      <td>&gt;50k</td>\n",
              "      <td>972</td>\n",
              "      <td>secondary | white collar</td>\n",
              "    </tr>\n",
              "    <tr>\n",
              "      <th>6</th>\n",
              "      <td>high school graduate</td>\n",
              "      <td>blue collar</td>\n",
              "      <td>&gt;50k</td>\n",
              "      <td>850</td>\n",
              "      <td>high school graduate | blue collar</td>\n",
              "    </tr>\n",
              "    <tr>\n",
              "      <th>10</th>\n",
              "      <td>high school graduate</td>\n",
              "      <td>white collar</td>\n",
              "      <td>&gt;50k</td>\n",
              "      <td>778</td>\n",
              "      <td>high school graduate | white collar</td>\n",
              "    </tr>\n",
              "    <tr>\n",
              "      <th>3</th>\n",
              "      <td>associates</td>\n",
              "      <td>white collar</td>\n",
              "      <td>&lt;=50k</td>\n",
              "      <td>545</td>\n",
              "      <td>associates | white collar</td>\n",
              "    </tr>\n",
              "    <tr>\n",
              "      <th>25</th>\n",
              "      <td>tertiary</td>\n",
              "      <td>blue collar</td>\n",
              "      <td>&lt;=50k</td>\n",
              "      <td>539</td>\n",
              "      <td>tertiary | blue collar</td>\n",
              "    </tr>\n",
              "    <tr>\n",
              "      <th>20</th>\n",
              "      <td>secondary</td>\n",
              "      <td>blue collar</td>\n",
              "      <td>&gt;50k</td>\n",
              "      <td>530</td>\n",
              "      <td>secondary | blue collar</td>\n",
              "    </tr>\n",
              "    <tr>\n",
              "      <th>0</th>\n",
              "      <td>associates</td>\n",
              "      <td>blue collar</td>\n",
              "      <td>&lt;=50k</td>\n",
              "      <td>424</td>\n",
              "      <td>associates | blue collar</td>\n",
              "    </tr>\n",
              "    <tr>\n",
              "      <th>4</th>\n",
              "      <td>associates</td>\n",
              "      <td>white collar</td>\n",
              "      <td>&gt;50k</td>\n",
              "      <td>222</td>\n",
              "      <td>associates | white collar</td>\n",
              "    </tr>\n",
              "    <tr>\n",
              "      <th>26</th>\n",
              "      <td>tertiary</td>\n",
              "      <td>blue collar</td>\n",
              "      <td>&gt;50k</td>\n",
              "      <td>205</td>\n",
              "      <td>tertiary | blue collar</td>\n",
              "    </tr>\n",
              "    <tr>\n",
              "      <th>17</th>\n",
              "      <td>primary</td>\n",
              "      <td>white collar</td>\n",
              "      <td>&lt;=50k</td>\n",
              "      <td>165</td>\n",
              "      <td>primary | white collar</td>\n",
              "    </tr>\n",
              "    <tr>\n",
              "      <th>1</th>\n",
              "      <td>associates</td>\n",
              "      <td>blue collar</td>\n",
              "      <td>&gt;50k</td>\n",
              "      <td>126</td>\n",
              "      <td>associates | blue collar</td>\n",
              "    </tr>\n",
              "    <tr>\n",
              "      <th>15</th>\n",
              "      <td>primary</td>\n",
              "      <td>blue collar</td>\n",
              "      <td>&gt;50k</td>\n",
              "      <td>60</td>\n",
              "      <td>primary | blue collar</td>\n",
              "    </tr>\n",
              "    <tr>\n",
              "      <th>8</th>\n",
              "      <td>high school graduate</td>\n",
              "      <td>srvice</td>\n",
              "      <td>&lt;=50k</td>\n",
              "      <td>50</td>\n",
              "      <td>high school graduate | srvice</td>\n",
              "    </tr>\n",
              "    <tr>\n",
              "      <th>16</th>\n",
              "      <td>primary</td>\n",
              "      <td>srvice</td>\n",
              "      <td>&lt;=50k</td>\n",
              "      <td>41</td>\n",
              "      <td>primary | srvice</td>\n",
              "    </tr>\n",
              "    <tr>\n",
              "      <th>22</th>\n",
              "      <td>secondary</td>\n",
              "      <td>srvice</td>\n",
              "      <td>&lt;=50k</td>\n",
              "      <td>40</td>\n",
              "      <td>secondary | srvice</td>\n",
              "    </tr>\n",
              "    <tr>\n",
              "      <th>11</th>\n",
              "      <td>preschool</td>\n",
              "      <td>blue collar</td>\n",
              "      <td>&lt;=50k</td>\n",
              "      <td>40</td>\n",
              "      <td>preschool | blue collar</td>\n",
              "    </tr>\n",
              "    <tr>\n",
              "      <th>18</th>\n",
              "      <td>primary</td>\n",
              "      <td>white collar</td>\n",
              "      <td>&gt;50k</td>\n",
              "      <td>24</td>\n",
              "      <td>primary | white collar</td>\n",
              "    </tr>\n",
              "    <tr>\n",
              "      <th>29</th>\n",
              "      <td>tertiary</td>\n",
              "      <td>srvice</td>\n",
              "      <td>&lt;=50k</td>\n",
              "      <td>7</td>\n",
              "      <td>tertiary | srvice</td>\n",
              "    </tr>\n",
              "    <tr>\n",
              "      <th>7</th>\n",
              "      <td>high school graduate</td>\n",
              "      <td>military</td>\n",
              "      <td>&lt;=50k</td>\n",
              "      <td>4</td>\n",
              "      <td>high school graduate | military</td>\n",
              "    </tr>\n",
              "    <tr>\n",
              "      <th>2</th>\n",
              "      <td>associates</td>\n",
              "      <td>srvice</td>\n",
              "      <td>&lt;=50k</td>\n",
              "      <td>4</td>\n",
              "      <td>associates | srvice</td>\n",
              "    </tr>\n",
              "    <tr>\n",
              "      <th>21</th>\n",
              "      <td>secondary</td>\n",
              "      <td>military</td>\n",
              "      <td>&lt;=50k</td>\n",
              "      <td>3</td>\n",
              "      <td>secondary | military</td>\n",
              "    </tr>\n",
              "    <tr>\n",
              "      <th>13</th>\n",
              "      <td>preschool</td>\n",
              "      <td>white collar</td>\n",
              "      <td>&lt;=50k</td>\n",
              "      <td>3</td>\n",
              "      <td>preschool | white collar</td>\n",
              "    </tr>\n",
              "    <tr>\n",
              "      <th>12</th>\n",
              "      <td>preschool</td>\n",
              "      <td>srvice</td>\n",
              "      <td>&lt;=50k</td>\n",
              "      <td>2</td>\n",
              "      <td>preschool | srvice</td>\n",
              "    </tr>\n",
              "    <tr>\n",
              "      <th>27</th>\n",
              "      <td>tertiary</td>\n",
              "      <td>military</td>\n",
              "      <td>&lt;=50k</td>\n",
              "      <td>1</td>\n",
              "      <td>tertiary | military</td>\n",
              "    </tr>\n",
              "    <tr>\n",
              "      <th>28</th>\n",
              "      <td>tertiary</td>\n",
              "      <td>military</td>\n",
              "      <td>&gt;50k</td>\n",
              "      <td>1</td>\n",
              "      <td>tertiary | military</td>\n",
              "    </tr>\n",
              "    <tr>\n",
              "      <th>30</th>\n",
              "      <td>tertiary</td>\n",
              "      <td>srvice</td>\n",
              "      <td>&gt;50k</td>\n",
              "      <td>1</td>\n",
              "      <td>tertiary | srvice</td>\n",
              "    </tr>\n",
              "  </tbody>\n",
              "</table>\n",
              "</div>"
            ],
            "text/plain": [
              "         education_level occupation_grouped income  total  \\\n",
              "5   high school graduate        blue collar  <=50k   5209   \n",
              "19             secondary        blue collar  <=50k   3849   \n",
              "23             secondary       white collar  <=50k   3652   \n",
              "31              tertiary       white collar  <=50k   3293   \n",
              "32              tertiary       white collar   >50k   3205   \n",
              "9   high school graduate       white collar  <=50k   3070   \n",
              "14               primary        blue collar  <=50k   1201   \n",
              "24             secondary       white collar   >50k    972   \n",
              "6   high school graduate        blue collar   >50k    850   \n",
              "10  high school graduate       white collar   >50k    778   \n",
              "3             associates       white collar  <=50k    545   \n",
              "25              tertiary        blue collar  <=50k    539   \n",
              "20             secondary        blue collar   >50k    530   \n",
              "0             associates        blue collar  <=50k    424   \n",
              "4             associates       white collar   >50k    222   \n",
              "26              tertiary        blue collar   >50k    205   \n",
              "17               primary       white collar  <=50k    165   \n",
              "1             associates        blue collar   >50k    126   \n",
              "15               primary        blue collar   >50k     60   \n",
              "8   high school graduate             srvice  <=50k     50   \n",
              "16               primary             srvice  <=50k     41   \n",
              "22             secondary             srvice  <=50k     40   \n",
              "11             preschool        blue collar  <=50k     40   \n",
              "18               primary       white collar   >50k     24   \n",
              "29              tertiary             srvice  <=50k      7   \n",
              "7   high school graduate           military  <=50k      4   \n",
              "2             associates             srvice  <=50k      4   \n",
              "21             secondary           military  <=50k      3   \n",
              "13             preschool       white collar  <=50k      3   \n",
              "12             preschool             srvice  <=50k      2   \n",
              "27              tertiary           military  <=50k      1   \n",
              "28              tertiary           military   >50k      1   \n",
              "30              tertiary             srvice   >50k      1   \n",
              "\n",
              "                                edu_occ  \n",
              "5    high school graduate | blue collar  \n",
              "19              secondary | blue collar  \n",
              "23             secondary | white collar  \n",
              "31              tertiary | white collar  \n",
              "32              tertiary | white collar  \n",
              "9   high school graduate | white collar  \n",
              "14                primary | blue collar  \n",
              "24             secondary | white collar  \n",
              "6    high school graduate | blue collar  \n",
              "10  high school graduate | white collar  \n",
              "3             associates | white collar  \n",
              "25               tertiary | blue collar  \n",
              "20              secondary | blue collar  \n",
              "0              associates | blue collar  \n",
              "4             associates | white collar  \n",
              "26               tertiary | blue collar  \n",
              "17               primary | white collar  \n",
              "1              associates | blue collar  \n",
              "15                primary | blue collar  \n",
              "8         high school graduate | srvice  \n",
              "16                     primary | srvice  \n",
              "22                   secondary | srvice  \n",
              "11              preschool | blue collar  \n",
              "18               primary | white collar  \n",
              "29                    tertiary | srvice  \n",
              "7       high school graduate | military  \n",
              "2                   associates | srvice  \n",
              "21                 secondary | military  \n",
              "13             preschool | white collar  \n",
              "12                   preschool | srvice  \n",
              "27                  tertiary | military  \n",
              "28                  tertiary | military  \n",
              "30                    tertiary | srvice  "
            ]
          },
          "execution_count": 95,
          "metadata": {},
          "output_type": "execute_result"
        }
      ],
      "source": [
        "adult_df_income_edu_occ['edu_occ'] = (adult_df_income_edu_occ['education_level'] + \" | \" + adult_df_income_edu_occ['occupation_grouped'])\n",
        "adult_df_income_edu_occ"
      ]
    },
    {
      "cell_type": "code",
      "execution_count": null,
      "metadata": {
        "id": "aNwduU1gUKNT",
        "outputId": "b42fc52f-0ca2-4439-d5ae-260e33664498"
      },
      "outputs": [
        {
          "data": {
            "application/vnd.plotly.v1+json": {
              "config": {
                "plotlyServerURL": "https://plot.ly"
              },
              "data": [
                {
                  "hovertemplate": "income=<=50k<br>total=%{text}<br>edu_occ=%{y}<extra></extra>",
                  "legendgroup": "<=50k",
                  "marker": {
                    "color": "rgb(103,0,31)",
                    "pattern": {
                      "shape": ""
                    }
                  },
                  "name": "<=50k",
                  "orientation": "h",
                  "showlegend": true,
                  "text": {
                    "_inputArray": {
                      "0": 5209,
                      "1": 3849,
                      "2": 3652,
                      "3": 3293,
                      "4": 3070,
                      "5": 1201,
                      "6": 545,
                      "7": 539,
                      "8": 424,
                      "bdata": "AAAAAABZtEAAAAAAABKuQAAAAAAAiKxAAAAAAAC6qUAAAAAAAPynQAAAAAAAxJJAAAAAAAAIgUAAAAAAANiAQAAAAAAAgHpA",
                      "dtype": "f8",
                      "shape": "9"
                    },
                    "bdata": "AAAAAABZtEAAAAAAABKuQAAAAAAAiKxAAAAAAAC6qUAAAAAAAPynQAAAAAAAxJJAAAAAAAAIgUAAAAAAANiAQAAAAAAAgHpA",
                    "dtype": "f8"
                  },
                  "textposition": "inside",
                  "type": "bar",
                  "x": {
                    "_inputArray": {
                      "0": 5209,
                      "1": 3849,
                      "2": 3652,
                      "3": 3293,
                      "4": 3070,
                      "5": 1201,
                      "6": 545,
                      "7": 539,
                      "8": 424,
                      "bdata": "WRQJD0QO3Qz+C7EEIQIbAqgB",
                      "dtype": "i2",
                      "shape": "9"
                    },
                    "bdata": "WRQJD0QO3Qz+C7EEIQIbAqgB",
                    "dtype": "i2"
                  },
                  "xaxis": "x",
                  "y": [
                    "high school graduate | blue collar",
                    "secondary | blue collar",
                    "secondary | white collar",
                    "tertiary | white collar",
                    "high school graduate | white collar",
                    "primary | blue collar",
                    "associates | white collar",
                    "tertiary | blue collar",
                    "associates | blue collar"
                  ],
                  "yaxis": "y"
                },
                {
                  "hovertemplate": "income=>50k<br>total=%{text}<br>edu_occ=%{y}<extra></extra>",
                  "legendgroup": ">50k",
                  "marker": {
                    "color": "rgb(178,24,43)",
                    "pattern": {
                      "shape": ""
                    }
                  },
                  "name": ">50k",
                  "orientation": "h",
                  "showlegend": true,
                  "text": {
                    "_inputArray": {
                      "0": 3205,
                      "1": 972,
                      "2": 850,
                      "3": 778,
                      "4": 530,
                      "5": 222,
                      "bdata": "AAAAAAAKqUAAAAAAAGCOQAAAAAAAkIpAAAAAAABQiEAAAAAAAJCAQAAAAAAAwGtA",
                      "dtype": "f8",
                      "shape": "6"
                    },
                    "bdata": "AAAAAAAKqUAAAAAAAGCOQAAAAAAAkIpAAAAAAABQiEAAAAAAAJCAQAAAAAAAwGtA",
                    "dtype": "f8"
                  },
                  "textposition": "inside",
                  "type": "bar",
                  "x": {
                    "_inputArray": {
                      "0": 3205,
                      "1": 972,
                      "2": 850,
                      "3": 778,
                      "4": 530,
                      "5": 222,
                      "bdata": "hQzMA1IDCgMSAt4A",
                      "dtype": "i2",
                      "shape": "6"
                    },
                    "bdata": "hQzMA1IDCgMSAt4A",
                    "dtype": "i2"
                  },
                  "xaxis": "x",
                  "y": [
                    "tertiary | white collar",
                    "secondary | white collar",
                    "high school graduate | blue collar",
                    "high school graduate | white collar",
                    "secondary | blue collar",
                    "associates | white collar"
                  ],
                  "yaxis": "y"
                }
              ],
              "layout": {
                "barmode": "relative",
                "height": 500,
                "legend": {
                  "title": {
                    "text": "Income Level"
                  },
                  "tracegroupgap": 0
                },
                "margin": {
                  "b": 50,
                  "l": 460,
                  "r": 50,
                  "t": 50
                },
                "template": {
                  "data": {
                    "pie": [
                      {
                        "automargin": true,
                        "type": "pie"
                      }
                    ],
                    "scatter": [
                      {
                        "line": {
                          "width": 3
                        },
                        "marker": {
                          "size": 9
                        },
                        "type": "scatter"
                      }
                    ],
                    "scatter3d": [
                      {
                        "line": {
                          "width": 3
                        },
                        "marker": {
                          "size": 9
                        },
                        "type": "scatter3d"
                      }
                    ],
                    "scattergeo": [
                      {
                        "line": {
                          "width": 3
                        },
                        "marker": {
                          "size": 9
                        },
                        "type": "scattergeo"
                      }
                    ],
                    "scattergl": [
                      {
                        "line": {
                          "width": 3
                        },
                        "marker": {
                          "size": 9
                        },
                        "type": "scattergl"
                      }
                    ],
                    "scatterpolar": [
                      {
                        "line": {
                          "width": 3
                        },
                        "marker": {
                          "size": 9
                        },
                        "type": "scatterpolar"
                      }
                    ],
                    "scatterpolargl": [
                      {
                        "line": {
                          "width": 3
                        },
                        "marker": {
                          "size": 9
                        },
                        "type": "scatterpolargl"
                      }
                    ],
                    "scatterternary": [
                      {
                        "line": {
                          "width": 3
                        },
                        "marker": {
                          "size": 9
                        },
                        "type": "scatterternary"
                      }
                    ],
                    "table": [
                      {
                        "cells": {
                          "height": 30
                        },
                        "header": {
                          "height": 36
                        },
                        "type": "table"
                      }
                    ]
                  },
                  "layout": {
                    "font": {
                      "size": 18
                    },
                    "xaxis": {
                      "title": {
                        "standoff": 15
                      }
                    },
                    "yaxis": {
                      "title": {
                        "standoff": 15
                      }
                    }
                  }
                },
                "title": {
                  "text": "Top 15 Education and occupation Groups combinations by Income Group"
                },
                "width": 1100,
                "xaxis": {
                  "anchor": "y",
                  "autorange": true,
                  "domain": [
                    0,
                    1
                  ],
                  "range": [
                    0,
                    6840
                  ],
                  "title": {
                    "text": "Number of Individuals"
                  },
                  "type": "linear"
                },
                "yaxis": {
                  "anchor": "x",
                  "autorange": true,
                  "domain": [
                    0,
                    1
                  ],
                  "range": [
                    -0.5,
                    8.5
                  ],
                  "title": {
                    "text": "occupation group"
                  },
                  "type": "category"
                }
              }
            },
            "image/png": "[encoded data removed]"
          },
          "metadata": {},
          "output_type": "display_data"
        }
      ],
      "source": [
        "num = 15\n",
        "adult_df_combos = adult_df_income_edu_occ.head(num)\n",
        "fig= px.bar(\n",
        "    adult_df_combos,\n",
        "    x = 'total',\n",
        "    y = 'edu_occ',\n",
        "    color= 'income',\n",
        "    orientation = 'h',\n",
        "    title=f'Top {num} Education and occupation Groups combinations by Income Group',\n",
        "    #barmode = 'group',\n",
        "    height=500,\n",
        "     width=1100,\n",
        "    text= 'total',\n",
        "    color_discrete_sequence=px.colors.sequential.RdBu,\n",
        ")\n",
        "fig.update_layout(template=\"presentation\",\n",
        "                  xaxis_title='Number of Individuals',\n",
        "                  yaxis_title='occupation group',\n",
        "                  legend_title=dict(text='Income Level'),\n",
        "                  margin=dict(l=460, r=50, t=50, b=50))\n",
        "fig.update_traces(textposition='inside')\n",
        "fig.show()\n",
        "fig.write_image(os.path.join(result_dir,'income_distribution_by_incomegroup_bar_plot.jpg'))\n",
        "fig.write_image(os.path.join(result_dir, 'income_distribution_by_incomegroup_bar_plot.png'))\n",
        "fig.write_html(os.path.join(result_dir, 'income_distribution_byincomegroup_bar_plot.html'))\n",
        "\n"
      ]
    },
    {
      "cell_type": "markdown",
      "source": [
        "From the bar chart, we can pick out the largest groups per income-level. We see that secondary-school graduates working a blue collar job occupy the largest group in the dataset (3976). This reflects a common socio-economic profile: individuals with basic schooling in manual or technical trades predominantly earning lower incomes. The largest high-income group are tertiary-educated individuals in white collar roles. This highlights the strong earning advantage conferred by higher education and skilled jobs.\n",
        "\n",
        "Some of the key patterns we can get from the dataset are:\n",
        "\n",
        "- **Education matters, but isn’t deterministic**\n",
        "\n",
        "Tertiary education combined with white-collar work offers the highest income prospects. Yet a substantial number of tertiary-educated white-collar workers earn <=50K, likely early career, part-time, or structural pay gaps.\n",
        "\n",
        "- **Blue-collar and service work predominantly pay <=50K, regardless of education.**\n",
        "\n",
        "Even some college education doesn’t guarantee high incomes in these sectors. Manual and service sector income is highly occupation-dependent (some skilled trades can break the 50K mark).\n",
        "\n",
        "- **Some non-tertiary education groups do reach >50K**\n",
        "\n",
        "Secondary-school graduates in blue-collar and white-collar work have decent representation among >50K earners. This reflects upward mobility possible through skilled trades, tenure, or niche roles.\n"
      ],
      "metadata": {
        "id": "hW4qPZrHW5mo"
      }
    },
    {
      "cell_type": "code",
      "source": [],
      "metadata": {
        "id": "FfFTK6RfW7EE"
      },
      "execution_count": null,
      "outputs": []
    }
  ],
  "metadata": {
    "colab": {
      "provenance": []
    },
    "kernelspec": {
      "display_name": "Python 3 (ipykernel)",
      "language": "python",
      "name": "python3"
    },
    "language_info": {
      "codemirror_mode": {
        "name": "ipython",
        "version": 3
      },
      "file_extension": ".py",
      "mimetype": "text/x-python",
      "name": "python",
      "nbconvert_exporter": "python",
      "pygments_lexer": "ipython3",
      "version": "3.11.7"
    }
  },
  "nbformat": 4,
  "nbformat_minor": 0
}